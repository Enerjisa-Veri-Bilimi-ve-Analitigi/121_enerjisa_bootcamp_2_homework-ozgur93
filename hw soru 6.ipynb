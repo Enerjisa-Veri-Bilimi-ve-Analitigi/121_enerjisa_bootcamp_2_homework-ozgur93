{
 "cells": [
  {
   "cell_type": "markdown",
   "id": "30fc15aa",
   "metadata": {},
   "source": [
    "## Soru 6"
   ]
  },
  {
   "cell_type": "markdown",
   "id": "591390c1",
   "metadata": {},
   "source": [
    "**Soru:** Fraud case'i üzerinde train&test&validation split, encoding, scaling,modelleme çalışmaları Python'da yapılarak, modelin görmediği dataset üzerinde başarılı sonuç alacak bir model örneği yapılmalı."
   ]
  },
  {
   "cell_type": "code",
   "execution_count": 1,
   "id": "796056f1",
   "metadata": {},
   "outputs": [],
   "source": [
    "# Kütüphane yüklemeleri ve derste yapılan temel ön işlemleri kopyalayarak başlıyorum\n",
    "import pandas as pd\n",
    "import numpy as np\n",
    "import datetime as dt\n",
    "import plotly.express as px\n",
    "import plotly.graph_objects as go\n",
    "\n",
    "\n",
    "#for quick viz\n",
    "import seaborn as sns\n",
    "\n",
    "#ml\n",
    "from sklearn.model_selection import train_test_split\n",
    "from sklearn.linear_model import LogisticRegression\n",
    "from sklearn.metrics import classification_report\n",
    "from sklearn.tree import DecisionTreeClassifier\n",
    "from sklearn.metrics import accuracy_score\n",
    "from sklearn.model_selection import GridSearchCV\n",
    "from sklearn.svm import SVC\n",
    "from sklearn.metrics import confusion_matrix\n",
    "\n",
    "from imblearn.over_sampling import SMOTE\n",
    "from imblearn.under_sampling import RandomUnderSampler\n",
    "from imblearn.pipeline import Pipeline\n",
    "from sklearn.ensemble import RandomForestClassifier\n",
    "from sklearn.preprocessing import LabelEncoder\n",
    "import random"
   ]
  },
  {
   "cell_type": "code",
   "execution_count": 2,
   "id": "dc8c5b77",
   "metadata": {},
   "outputs": [
    {
     "name": "stderr",
     "output_type": "stream",
     "text": [
      "<ipython-input-2-c0d31427e599>:18: FutureWarning: The default value of regex will change from True to False in a future version.\n",
      "  df['umbrella_limit'] = df['umbrella_limit'].str.replace(umb, 'other')\n"
     ]
    }
   ],
   "source": [
    "df = pd.read_csv('auto_insurance_csv.csv')\n",
    "df = df.drop(['_c39','Unnamed: 0'], axis = 1)\n",
    "df['umbrella_limit'] = df.umbrella_limit.fillna(\"9999\")\n",
    "df['police_report_available'] = df.police_report_available.fillna(\"MISSING\")\n",
    "df['policy_csl'] = df.policy_csl.fillna(\"MISSING\")\n",
    "df['policy_bind_date'] = pd.to_datetime(df['policy_bind_date'])\n",
    "df['incident_date'] = pd.to_datetime(df['incident_date'])\n",
    "df['claim_day_of_policy'] = (df.incident_date -  df.policy_bind_date).dt.days\n",
    "df['location_check'] = np.nan\n",
    "df['location_check'] = np.where(df['policy_state'] == df['incident_state'], True, False)\n",
    "df['fraud_reported'] = df['fraud_reported'].str.replace('Y', '1')\n",
    "df['fraud_reported'] = df['fraud_reported'].str.replace('N', '0')\n",
    "df['fraud_reported'] = df['fraud_reported'].astype(int)\n",
    "df['umbrella_limit'] = df.umbrella_limit.astype(str)\n",
    "umbrealla = df['umbrella_limit'].unique()\n",
    "for umb in umbrealla:\n",
    "  if (umb != '0.0') & (umb != '9999'):\n",
    "    df['umbrella_limit'] = df['umbrella_limit'].str.replace(umb, 'other')\n",
    "    \n",
    "hobbies = df['insured_hobbies'].unique()\n",
    "for hobby in hobbies:\n",
    "  if (hobby != 'chess') & (hobby != 'cross-fit'):\n",
    "    df['insured_hobbies'] = df['insured_hobbies'].str.replace(hobby, 'other')\n",
    "\n",
    "df['age'] = df.age.fillna(9999)\n",
    "bin_labels = ['15-20', '21-25', '26-30', '31-35', '36-40', '41-45', '46-50', '51-55', '56-60', '61-65','9999']\n",
    "bins = [15, 20, 25, 30, 35, 40, 45, 50, 55, 60, 65, 9999]\n",
    "\n",
    "df['age_group'] = pd.cut(df['age'], bins = bins, labels = bin_labels, include_lowest = True)\n",
    "bins = [0, 50, 100, 150, 200, 250, 300, 350, 400, 450, 500]\n",
    "bin_labels = ['0-50','51-100','101-150','151-200','201-250','251-300','301-350','351-400','401-450','451-500']\n",
    "\n",
    "df['months_as_customer_groups'] = pd.cut(df['months_as_customer'], bins = 10, labels = bin_labels, include_lowest= True)\n",
    "bins = list(np.linspace(0,2500, 6, dtype = int))\n",
    "bin_labels = ['very low', 'low', 'medium', 'high', 'very high']\n",
    "\n",
    "df['policy_annual_premium_groups'] = pd.cut(df['policy_annual_premium'], bins = bins, labels=bin_labels)\n",
    "bins = list(np.linspace(0,2000, 5, dtype = int))\n",
    "bin_labels = ['0-500', '501-1000', '1001-1500', '1501-2000']\n",
    "\n",
    "df['policy_deductable_group'] = pd.cut(df['policy_deductable'], bins = bins, labels = bin_labels)\n",
    "\n",
    "df = df.drop(['age', 'months_as_customer', 'policy_deductable', 'policy_annual_premium'], axis = 1)\n",
    "required_columns = ['incident_date','policy_state', 'policy_csl', 'umbrella_limit',\n",
    "       'insured_zip', 'insured_sex', 'insured_education_level',\n",
    "       'insured_occupation', 'insured_hobbies', 'insured_relationship',\n",
    "       'capital-gains', 'capital-loss', 'incident_type', 'collision_type',\n",
    "       'incident_severity', 'authorities_contacted', 'incident_state',\n",
    "       'incident_city', 'incident_location', 'incident_hour_of_the_day',\n",
    "       'number_of_vehicles_involved', 'property_damage', 'bodily_injuries',\n",
    "       'witnesses', 'police_report_available', 'total_claim_amount','auto_make',\n",
    "       'auto_model', 'auto_year', 'claim_day_of_policy',\n",
    "       'location_check', 'age_group', 'months_as_customer_groups',\n",
    "       'policy_annual_premium_groups', 'policy_deductable_group', 'fraud_reported']\n",
    "df1 = df[required_columns]"
   ]
  },
  {
   "cell_type": "code",
   "execution_count": 3,
   "id": "8fcfabd2",
   "metadata": {},
   "outputs": [
    {
     "data": {
      "text/plain": [
       "1000"
      ]
     },
     "execution_count": 3,
     "metadata": {},
     "output_type": "execute_result"
    }
   ],
   "source": [
    "# bu kolon her satırda farklı bir kategorik değişken oluşturduğu için işimize yaramaz\n",
    "df1[\"incident_location\"].nunique()"
   ]
  },
  {
   "cell_type": "code",
   "execution_count": 4,
   "id": "3a37e64b",
   "metadata": {},
   "outputs": [
    {
     "data": {
      "text/plain": [
       "995"
      ]
     },
     "execution_count": 4,
     "metadata": {},
     "output_type": "execute_result"
    }
   ],
   "source": [
    "# bu kolon identifier gibi bir şey olduğu için pek işimize yaramaz\n",
    "df1[\"insured_zip\"].nunique()"
   ]
  },
  {
   "cell_type": "code",
   "execution_count": 5,
   "id": "af43b6be",
   "metadata": {},
   "outputs": [],
   "source": [
    "# yukarda bahsettiğim 2 kolonu dropladım\n",
    "df1 = df1.drop([\"incident_location\", \"insured_zip\"], axis = 1)"
   ]
  },
  {
   "cell_type": "code",
   "execution_count": 6,
   "id": "10dd7ad9",
   "metadata": {},
   "outputs": [
    {
     "data": {
      "text/html": [
       "<div>\n",
       "<style scoped>\n",
       "    .dataframe tbody tr th:only-of-type {\n",
       "        vertical-align: middle;\n",
       "    }\n",
       "\n",
       "    .dataframe tbody tr th {\n",
       "        vertical-align: top;\n",
       "    }\n",
       "\n",
       "    .dataframe thead th {\n",
       "        text-align: right;\n",
       "    }\n",
       "</style>\n",
       "<table border=\"1\" class=\"dataframe\">\n",
       "  <thead>\n",
       "    <tr style=\"text-align: right;\">\n",
       "      <th></th>\n",
       "      <th>incident_date</th>\n",
       "      <th>policy_state</th>\n",
       "      <th>policy_csl</th>\n",
       "      <th>umbrella_limit</th>\n",
       "      <th>insured_sex</th>\n",
       "      <th>insured_education_level</th>\n",
       "      <th>insured_occupation</th>\n",
       "      <th>insured_hobbies</th>\n",
       "      <th>insured_relationship</th>\n",
       "      <th>capital-gains</th>\n",
       "      <th>...</th>\n",
       "      <th>auto_make</th>\n",
       "      <th>auto_model</th>\n",
       "      <th>auto_year</th>\n",
       "      <th>claim_day_of_policy</th>\n",
       "      <th>location_check</th>\n",
       "      <th>age_group</th>\n",
       "      <th>months_as_customer_groups</th>\n",
       "      <th>policy_annual_premium_groups</th>\n",
       "      <th>policy_deductable_group</th>\n",
       "      <th>fraud_reported</th>\n",
       "    </tr>\n",
       "  </thead>\n",
       "  <tbody>\n",
       "    <tr>\n",
       "      <th>0</th>\n",
       "      <td>2015-01-25</td>\n",
       "      <td>OH</td>\n",
       "      <td>250/500</td>\n",
       "      <td>0.0</td>\n",
       "      <td>MALE</td>\n",
       "      <td>MD</td>\n",
       "      <td>craft-repair</td>\n",
       "      <td>other</td>\n",
       "      <td>husband</td>\n",
       "      <td>53300</td>\n",
       "      <td>...</td>\n",
       "      <td>Saab</td>\n",
       "      <td>92x</td>\n",
       "      <td>2004</td>\n",
       "      <td>100</td>\n",
       "      <td>False</td>\n",
       "      <td>46-50</td>\n",
       "      <td>301-350</td>\n",
       "      <td>medium</td>\n",
       "      <td>501-1000</td>\n",
       "      <td>1</td>\n",
       "    </tr>\n",
       "    <tr>\n",
       "      <th>1</th>\n",
       "      <td>2015-01-21</td>\n",
       "      <td>IN</td>\n",
       "      <td>250/500</td>\n",
       "      <td>other</td>\n",
       "      <td>MALE</td>\n",
       "      <td>MD</td>\n",
       "      <td>machine-op-inspct</td>\n",
       "      <td>other</td>\n",
       "      <td>other-relative</td>\n",
       "      <td>0</td>\n",
       "      <td>...</td>\n",
       "      <td>Mercedes</td>\n",
       "      <td>E400</td>\n",
       "      <td>2007</td>\n",
       "      <td>3130</td>\n",
       "      <td>False</td>\n",
       "      <td>41-45</td>\n",
       "      <td>201-250</td>\n",
       "      <td>medium</td>\n",
       "      <td>1501-2000</td>\n",
       "      <td>1</td>\n",
       "    </tr>\n",
       "    <tr>\n",
       "      <th>2</th>\n",
       "      <td>2015-02-22</td>\n",
       "      <td>OH</td>\n",
       "      <td>MISSING</td>\n",
       "      <td>other</td>\n",
       "      <td>FEMALE</td>\n",
       "      <td>PhD</td>\n",
       "      <td>sales</td>\n",
       "      <td>other</td>\n",
       "      <td>own-child</td>\n",
       "      <td>35100</td>\n",
       "      <td>...</td>\n",
       "      <td>Dodge</td>\n",
       "      <td>RAM</td>\n",
       "      <td>2007</td>\n",
       "      <td>5282</td>\n",
       "      <td>False</td>\n",
       "      <td>26-30</td>\n",
       "      <td>101-150</td>\n",
       "      <td>medium</td>\n",
       "      <td>1501-2000</td>\n",
       "      <td>0</td>\n",
       "    </tr>\n",
       "    <tr>\n",
       "      <th>3</th>\n",
       "      <td>2015-01-10</td>\n",
       "      <td>IL</td>\n",
       "      <td>MISSING</td>\n",
       "      <td>other</td>\n",
       "      <td>FEMALE</td>\n",
       "      <td>PhD</td>\n",
       "      <td>armed-forces</td>\n",
       "      <td>other</td>\n",
       "      <td>unmarried</td>\n",
       "      <td>48900</td>\n",
       "      <td>...</td>\n",
       "      <td>Chevrolet</td>\n",
       "      <td>Tahoe</td>\n",
       "      <td>2014</td>\n",
       "      <td>8996</td>\n",
       "      <td>False</td>\n",
       "      <td>41-45</td>\n",
       "      <td>251-300</td>\n",
       "      <td>medium</td>\n",
       "      <td>1501-2000</td>\n",
       "      <td>1</td>\n",
       "    </tr>\n",
       "    <tr>\n",
       "      <th>4</th>\n",
       "      <td>2015-02-17</td>\n",
       "      <td>IL</td>\n",
       "      <td>MISSING</td>\n",
       "      <td>other</td>\n",
       "      <td>MALE</td>\n",
       "      <td>Associate</td>\n",
       "      <td>sales</td>\n",
       "      <td>other</td>\n",
       "      <td>unmarried</td>\n",
       "      <td>66000</td>\n",
       "      <td>...</td>\n",
       "      <td>Accura</td>\n",
       "      <td>RSX</td>\n",
       "      <td>2009</td>\n",
       "      <td>256</td>\n",
       "      <td>False</td>\n",
       "      <td>41-45</td>\n",
       "      <td>201-250</td>\n",
       "      <td>high</td>\n",
       "      <td>501-1000</td>\n",
       "      <td>0</td>\n",
       "    </tr>\n",
       "  </tbody>\n",
       "</table>\n",
       "<p>5 rows × 34 columns</p>\n",
       "</div>"
      ],
      "text/plain": [
       "  incident_date policy_state policy_csl umbrella_limit insured_sex  \\\n",
       "0    2015-01-25           OH    250/500            0.0        MALE   \n",
       "1    2015-01-21           IN    250/500          other        MALE   \n",
       "2    2015-02-22           OH    MISSING          other      FEMALE   \n",
       "3    2015-01-10           IL    MISSING          other      FEMALE   \n",
       "4    2015-02-17           IL    MISSING          other        MALE   \n",
       "\n",
       "  insured_education_level insured_occupation insured_hobbies  \\\n",
       "0                      MD       craft-repair           other   \n",
       "1                      MD  machine-op-inspct           other   \n",
       "2                     PhD              sales           other   \n",
       "3                     PhD       armed-forces           other   \n",
       "4               Associate              sales           other   \n",
       "\n",
       "  insured_relationship  capital-gains  ...  auto_make auto_model auto_year  \\\n",
       "0              husband          53300  ...       Saab        92x      2004   \n",
       "1       other-relative              0  ...   Mercedes       E400      2007   \n",
       "2            own-child          35100  ...      Dodge        RAM      2007   \n",
       "3            unmarried          48900  ...  Chevrolet      Tahoe      2014   \n",
       "4            unmarried          66000  ...     Accura        RSX      2009   \n",
       "\n",
       "  claim_day_of_policy location_check age_group months_as_customer_groups  \\\n",
       "0                 100          False     46-50                   301-350   \n",
       "1                3130          False     41-45                   201-250   \n",
       "2                5282          False     26-30                   101-150   \n",
       "3                8996          False     41-45                   251-300   \n",
       "4                 256          False     41-45                   201-250   \n",
       "\n",
       "   policy_annual_premium_groups  policy_deductable_group fraud_reported  \n",
       "0                        medium                 501-1000              1  \n",
       "1                        medium                1501-2000              1  \n",
       "2                        medium                1501-2000              0  \n",
       "3                        medium                1501-2000              1  \n",
       "4                          high                 501-1000              0  \n",
       "\n",
       "[5 rows x 34 columns]"
      ]
     },
     "execution_count": 6,
     "metadata": {},
     "output_type": "execute_result"
    }
   ],
   "source": [
    "df1.head()"
   ]
  },
  {
   "cell_type": "code",
   "execution_count": 7,
   "id": "36d302ec",
   "metadata": {},
   "outputs": [],
   "source": [
    "# gruplama yaparak oluşturduğumuz kolonları object tipine çevirdim\n",
    "new_cat_cols = ['age_group', 'months_as_customer_groups', 'policy_annual_premium_groups','location_check','policy_deductable_group']\n",
    "for col in new_cat_cols:\n",
    "  df1[col] = df1[col].astype('object')"
   ]
  },
  {
   "cell_type": "code",
   "execution_count": 8,
   "id": "b9894b8d",
   "metadata": {},
   "outputs": [
    {
     "data": {
      "text/plain": [
       "MISSING     873\n",
       "100/300      44\n",
       "250/500      43\n",
       "500/1000     40\n",
       "Name: policy_csl, dtype: int64"
      ]
     },
     "execution_count": 8,
     "metadata": {},
     "output_type": "execute_result"
    }
   ],
   "source": [
    "# %87 boş değer içerdiği için silmeye karar verdim \n",
    "df1[\"policy_csl\"].value_counts()"
   ]
  },
  {
   "cell_type": "code",
   "execution_count": 9,
   "id": "fd327bc1",
   "metadata": {},
   "outputs": [],
   "source": [
    "df1 = df1.drop([\"policy_csl\"],axis=1)"
   ]
  },
  {
   "cell_type": "code",
   "execution_count": 10,
   "id": "8efa1714",
   "metadata": {},
   "outputs": [
    {
     "name": "stdout",
     "output_type": "stream",
     "text": [
      "<class 'pandas.core.frame.DataFrame'>\n",
      "RangeIndex: 1000 entries, 0 to 999\n",
      "Data columns (total 33 columns):\n",
      " #   Column                        Non-Null Count  Dtype         \n",
      "---  ------                        --------------  -----         \n",
      " 0   incident_date                 1000 non-null   datetime64[ns]\n",
      " 1   policy_state                  1000 non-null   object        \n",
      " 2   umbrella_limit                1000 non-null   object        \n",
      " 3   insured_sex                   1000 non-null   object        \n",
      " 4   insured_education_level       1000 non-null   object        \n",
      " 5   insured_occupation            1000 non-null   object        \n",
      " 6   insured_hobbies               1000 non-null   object        \n",
      " 7   insured_relationship          1000 non-null   object        \n",
      " 8   capital-gains                 1000 non-null   int64         \n",
      " 9   capital-loss                  1000 non-null   int64         \n",
      " 10  incident_type                 1000 non-null   object        \n",
      " 11  collision_type                1000 non-null   object        \n",
      " 12  incident_severity             1000 non-null   object        \n",
      " 13  authorities_contacted         1000 non-null   object        \n",
      " 14  incident_state                1000 non-null   object        \n",
      " 15  incident_city                 1000 non-null   object        \n",
      " 16  incident_hour_of_the_day      1000 non-null   int64         \n",
      " 17  number_of_vehicles_involved   1000 non-null   int64         \n",
      " 18  property_damage               1000 non-null   object        \n",
      " 19  bodily_injuries               1000 non-null   int64         \n",
      " 20  witnesses                     1000 non-null   int64         \n",
      " 21  police_report_available       1000 non-null   object        \n",
      " 22  total_claim_amount            1000 non-null   int64         \n",
      " 23  auto_make                     1000 non-null   object        \n",
      " 24  auto_model                    1000 non-null   object        \n",
      " 25  auto_year                     1000 non-null   int64         \n",
      " 26  claim_day_of_policy           1000 non-null   int64         \n",
      " 27  location_check                1000 non-null   object        \n",
      " 28  age_group                     1000 non-null   object        \n",
      " 29  months_as_customer_groups     1000 non-null   object        \n",
      " 30  policy_annual_premium_groups  1000 non-null   object        \n",
      " 31  policy_deductable_group       1000 non-null   object        \n",
      " 32  fraud_reported                1000 non-null   int32         \n",
      "dtypes: datetime64[ns](1), int32(1), int64(9), object(22)\n",
      "memory usage: 254.0+ KB\n"
     ]
    }
   ],
   "source": [
    "df1.info()"
   ]
  },
  {
   "cell_type": "code",
   "execution_count": 11,
   "id": "26fb9f09",
   "metadata": {},
   "outputs": [
    {
     "data": {
      "text/plain": [
       "['policy_state',\n",
       " 'umbrella_limit',\n",
       " 'insured_sex',\n",
       " 'insured_education_level',\n",
       " 'insured_occupation',\n",
       " 'insured_hobbies',\n",
       " 'insured_relationship',\n",
       " 'incident_type',\n",
       " 'collision_type',\n",
       " 'incident_severity',\n",
       " 'authorities_contacted',\n",
       " 'incident_state',\n",
       " 'incident_city',\n",
       " 'property_damage',\n",
       " 'police_report_available',\n",
       " 'auto_make',\n",
       " 'auto_model',\n",
       " 'location_check',\n",
       " 'age_group',\n",
       " 'months_as_customer_groups',\n",
       " 'policy_annual_premium_groups',\n",
       " 'policy_deductable_group']"
      ]
     },
     "execution_count": 11,
     "metadata": {},
     "output_type": "execute_result"
    }
   ],
   "source": [
    "# kategorik kolonları bir arada görmek istedim\n",
    "cat_cols = []\n",
    "for col in df1.columns:\n",
    "  if df1[col].dtype == 'object':\n",
    "    cat_cols.append(col)\n",
    "\n",
    "cat_cols"
   ]
  },
  {
   "cell_type": "code",
   "execution_count": 12,
   "id": "5015f41f",
   "metadata": {},
   "outputs": [
    {
     "data": {
      "text/html": [
       "<div>\n",
       "<style scoped>\n",
       "    .dataframe tbody tr th:only-of-type {\n",
       "        vertical-align: middle;\n",
       "    }\n",
       "\n",
       "    .dataframe tbody tr th {\n",
       "        vertical-align: top;\n",
       "    }\n",
       "\n",
       "    .dataframe thead th {\n",
       "        text-align: right;\n",
       "    }\n",
       "</style>\n",
       "<table border=\"1\" class=\"dataframe\">\n",
       "  <thead>\n",
       "    <tr style=\"text-align: right;\">\n",
       "      <th></th>\n",
       "      <th>policy_state</th>\n",
       "      <th>umbrella_limit</th>\n",
       "      <th>insured_sex</th>\n",
       "      <th>insured_education_level</th>\n",
       "      <th>insured_occupation</th>\n",
       "      <th>insured_hobbies</th>\n",
       "      <th>insured_relationship</th>\n",
       "      <th>incident_type</th>\n",
       "      <th>collision_type</th>\n",
       "      <th>incident_severity</th>\n",
       "      <th>authorities_contacted</th>\n",
       "      <th>incident_state</th>\n",
       "      <th>incident_city</th>\n",
       "      <th>property_damage</th>\n",
       "      <th>police_report_available</th>\n",
       "      <th>auto_make</th>\n",
       "      <th>auto_model</th>\n",
       "      <th>location_check</th>\n",
       "      <th>age_group</th>\n",
       "      <th>months_as_customer_groups</th>\n",
       "      <th>policy_annual_premium_groups</th>\n",
       "      <th>policy_deductable_group</th>\n",
       "    </tr>\n",
       "  </thead>\n",
       "  <tbody>\n",
       "    <tr>\n",
       "      <th>0</th>\n",
       "      <td>OH</td>\n",
       "      <td>0.0</td>\n",
       "      <td>MALE</td>\n",
       "      <td>MD</td>\n",
       "      <td>craft-repair</td>\n",
       "      <td>other</td>\n",
       "      <td>husband</td>\n",
       "      <td>Single Vehicle Collision</td>\n",
       "      <td>Side Collision</td>\n",
       "      <td>Major Damage</td>\n",
       "      <td>Police</td>\n",
       "      <td>SC</td>\n",
       "      <td>Columbus</td>\n",
       "      <td>YES</td>\n",
       "      <td>YES</td>\n",
       "      <td>Saab</td>\n",
       "      <td>92x</td>\n",
       "      <td>False</td>\n",
       "      <td>46-50</td>\n",
       "      <td>301-350</td>\n",
       "      <td>medium</td>\n",
       "      <td>501-1000</td>\n",
       "    </tr>\n",
       "    <tr>\n",
       "      <th>1</th>\n",
       "      <td>IN</td>\n",
       "      <td>other</td>\n",
       "      <td>MALE</td>\n",
       "      <td>MD</td>\n",
       "      <td>machine-op-inspct</td>\n",
       "      <td>other</td>\n",
       "      <td>other-relative</td>\n",
       "      <td>Vehicle Theft</td>\n",
       "      <td>?</td>\n",
       "      <td>Minor Damage</td>\n",
       "      <td>Police</td>\n",
       "      <td>VA</td>\n",
       "      <td>Riverwood</td>\n",
       "      <td>?</td>\n",
       "      <td>?</td>\n",
       "      <td>Mercedes</td>\n",
       "      <td>E400</td>\n",
       "      <td>False</td>\n",
       "      <td>41-45</td>\n",
       "      <td>201-250</td>\n",
       "      <td>medium</td>\n",
       "      <td>1501-2000</td>\n",
       "    </tr>\n",
       "    <tr>\n",
       "      <th>2</th>\n",
       "      <td>OH</td>\n",
       "      <td>other</td>\n",
       "      <td>FEMALE</td>\n",
       "      <td>PhD</td>\n",
       "      <td>sales</td>\n",
       "      <td>other</td>\n",
       "      <td>own-child</td>\n",
       "      <td>Multi-vehicle Collision</td>\n",
       "      <td>Rear Collision</td>\n",
       "      <td>Minor Damage</td>\n",
       "      <td>Police</td>\n",
       "      <td>NY</td>\n",
       "      <td>Columbus</td>\n",
       "      <td>NO</td>\n",
       "      <td>MISSING</td>\n",
       "      <td>Dodge</td>\n",
       "      <td>RAM</td>\n",
       "      <td>False</td>\n",
       "      <td>26-30</td>\n",
       "      <td>101-150</td>\n",
       "      <td>medium</td>\n",
       "      <td>1501-2000</td>\n",
       "    </tr>\n",
       "    <tr>\n",
       "      <th>3</th>\n",
       "      <td>IL</td>\n",
       "      <td>other</td>\n",
       "      <td>FEMALE</td>\n",
       "      <td>PhD</td>\n",
       "      <td>armed-forces</td>\n",
       "      <td>other</td>\n",
       "      <td>unmarried</td>\n",
       "      <td>Single Vehicle Collision</td>\n",
       "      <td>Front Collision</td>\n",
       "      <td>Major Damage</td>\n",
       "      <td>Police</td>\n",
       "      <td>OH</td>\n",
       "      <td>Arlington</td>\n",
       "      <td>?</td>\n",
       "      <td>NO</td>\n",
       "      <td>Chevrolet</td>\n",
       "      <td>Tahoe</td>\n",
       "      <td>False</td>\n",
       "      <td>41-45</td>\n",
       "      <td>251-300</td>\n",
       "      <td>medium</td>\n",
       "      <td>1501-2000</td>\n",
       "    </tr>\n",
       "    <tr>\n",
       "      <th>4</th>\n",
       "      <td>IL</td>\n",
       "      <td>other</td>\n",
       "      <td>MALE</td>\n",
       "      <td>Associate</td>\n",
       "      <td>sales</td>\n",
       "      <td>other</td>\n",
       "      <td>unmarried</td>\n",
       "      <td>Vehicle Theft</td>\n",
       "      <td>?</td>\n",
       "      <td>Minor Damage</td>\n",
       "      <td>None</td>\n",
       "      <td>NY</td>\n",
       "      <td>Arlington</td>\n",
       "      <td>NO</td>\n",
       "      <td>MISSING</td>\n",
       "      <td>Accura</td>\n",
       "      <td>RSX</td>\n",
       "      <td>False</td>\n",
       "      <td>41-45</td>\n",
       "      <td>201-250</td>\n",
       "      <td>high</td>\n",
       "      <td>501-1000</td>\n",
       "    </tr>\n",
       "  </tbody>\n",
       "</table>\n",
       "</div>"
      ],
      "text/plain": [
       "  policy_state umbrella_limit insured_sex insured_education_level  \\\n",
       "0           OH            0.0        MALE                      MD   \n",
       "1           IN          other        MALE                      MD   \n",
       "2           OH          other      FEMALE                     PhD   \n",
       "3           IL          other      FEMALE                     PhD   \n",
       "4           IL          other        MALE               Associate   \n",
       "\n",
       "  insured_occupation insured_hobbies insured_relationship  \\\n",
       "0       craft-repair           other              husband   \n",
       "1  machine-op-inspct           other       other-relative   \n",
       "2              sales           other            own-child   \n",
       "3       armed-forces           other            unmarried   \n",
       "4              sales           other            unmarried   \n",
       "\n",
       "              incident_type   collision_type incident_severity  \\\n",
       "0  Single Vehicle Collision   Side Collision      Major Damage   \n",
       "1             Vehicle Theft                ?      Minor Damage   \n",
       "2   Multi-vehicle Collision   Rear Collision      Minor Damage   \n",
       "3  Single Vehicle Collision  Front Collision      Major Damage   \n",
       "4             Vehicle Theft                ?      Minor Damage   \n",
       "\n",
       "  authorities_contacted incident_state incident_city property_damage  \\\n",
       "0                Police             SC      Columbus             YES   \n",
       "1                Police             VA     Riverwood               ?   \n",
       "2                Police             NY      Columbus              NO   \n",
       "3                Police             OH     Arlington               ?   \n",
       "4                  None             NY     Arlington              NO   \n",
       "\n",
       "  police_report_available  auto_make auto_model location_check age_group  \\\n",
       "0                     YES       Saab        92x          False     46-50   \n",
       "1                       ?   Mercedes       E400          False     41-45   \n",
       "2                 MISSING      Dodge        RAM          False     26-30   \n",
       "3                      NO  Chevrolet      Tahoe          False     41-45   \n",
       "4                 MISSING     Accura        RSX          False     41-45   \n",
       "\n",
       "  months_as_customer_groups policy_annual_premium_groups  \\\n",
       "0                   301-350                       medium   \n",
       "1                   201-250                       medium   \n",
       "2                   101-150                       medium   \n",
       "3                   251-300                       medium   \n",
       "4                   201-250                         high   \n",
       "\n",
       "  policy_deductable_group  \n",
       "0                501-1000  \n",
       "1               1501-2000  \n",
       "2               1501-2000  \n",
       "3               1501-2000  \n",
       "4                501-1000  "
      ]
     },
     "execution_count": 12,
     "metadata": {},
     "output_type": "execute_result"
    }
   ],
   "source": [
    "# buradan tüm kolonlara bakıp hangisine OneHotEncoder hangisine OrdinalEncoder uygulayacağıma karar vereceğim\n",
    "# ordinal kolonları OrdinalEncoder'a, nominal kolonları OneHotEncoder'a sokacağım\n",
    "pd.set_option(\"display.max_columns\", None)\n",
    "df1[cat_cols].head()"
   ]
  },
  {
   "cell_type": "code",
   "execution_count": 13,
   "id": "f96ad07c",
   "metadata": {},
   "outputs": [],
   "source": [
    "pd.reset_option(\"display.max_columns\")"
   ]
  },
  {
   "cell_type": "code",
   "execution_count": 14,
   "id": "b49ab7e1",
   "metadata": {},
   "outputs": [],
   "source": [
    "# ordinal_list'e OrdinalEncoder, ohe_list'e OneHotEncoder uygulayacağım\n",
    "# incident_date silineceği için onu dikkate almadım\n",
    "ordinal_list = [\"insured_education_level\", \"incident_severity\", \"age_group\", \"months_as_customer_groups\", \n",
    "                \"policy_annual_premium_groups\", \"policy_deductable_group\"]\n",
    "\n",
    "ohe_list = [\"insured_sex\", \"policy_state\", \"umbrella_limit\", \"insured_occupation\", \"insured_hobbies\", \n",
    "            \"insured_relationship\", \"incident_type\", \"collision_type\", \"authorities_contacted\", \n",
    "            \"incident_state\", \"incident_city\", \"property_damage\", \"police_report_available\", \"auto_make\", \n",
    "            \"auto_model\", \"location_check\"]"
   ]
  },
  {
   "cell_type": "code",
   "execution_count": 15,
   "id": "47173e2c",
   "metadata": {},
   "outputs": [
    {
     "data": {
      "text/plain": [
       "array(['MD', 'PhD', 'Associate', 'Masters', 'High School', 'College',\n",
       "       'JD'], dtype=object)"
      ]
     },
     "execution_count": 15,
     "metadata": {},
     "output_type": "execute_result"
    }
   ],
   "source": [
    "# sıralayacağımız değerleri görmek için unique metodunu kullanıyorum\n",
    "df1[\"insured_education_level\"].unique()"
   ]
  },
  {
   "cell_type": "code",
   "execution_count": 16,
   "id": "4942a223",
   "metadata": {},
   "outputs": [
    {
     "data": {
      "text/plain": [
       "array(['Doctors Degree', 'Associate', 'Masters', 'High School', 'College'],\n",
       "      dtype=object)"
      ]
     },
     "execution_count": 16,
     "metadata": {},
     "output_type": "execute_result"
    }
   ],
   "source": [
    "# birden fazla doktora derecesi olmasının bize faydası olacağını düşünmediğimden hepsini birleştirdim\n",
    "df1['insured_education_level'] = df1['insured_education_level'].str.replace('MD', 'Doctors Degree')\n",
    "df1['insured_education_level'] = df1['insured_education_level'].str.replace('PhD', 'Doctors Degree')\n",
    "df1['insured_education_level'] = df1['insured_education_level'].str.replace('JD', 'Doctors Degree')\n",
    "df1[\"insured_education_level\"].unique()"
   ]
  },
  {
   "cell_type": "code",
   "execution_count": 17,
   "id": "b8236f81",
   "metadata": {},
   "outputs": [
    {
     "data": {
      "text/plain": [
       "array(['Major Damage', 'Minor Damage', 'Total Loss', 'Trivial Damage'],\n",
       "      dtype=object)"
      ]
     },
     "execution_count": 17,
     "metadata": {},
     "output_type": "execute_result"
    }
   ],
   "source": [
    "df1[\"incident_severity\"].unique()"
   ]
  },
  {
   "cell_type": "code",
   "execution_count": 18,
   "id": "033f65e8",
   "metadata": {},
   "outputs": [
    {
     "data": {
      "text/plain": [
       "array(['46-50', '41-45', '26-30', '36-40', '31-35', '61-65', '9999',\n",
       "       '56-60', '51-55', '21-25', '15-20'], dtype=object)"
      ]
     },
     "execution_count": 18,
     "metadata": {},
     "output_type": "execute_result"
    }
   ],
   "source": [
    "df1[\"age_group\"].unique()"
   ]
  },
  {
   "cell_type": "code",
   "execution_count": 19,
   "id": "a227be1e",
   "metadata": {},
   "outputs": [
    {
     "data": {
      "text/plain": [
       "array(['301-350', '201-250', '101-150', '251-300', '151-200', '0-50',\n",
       "       '451-500', '51-100', '351-400', '401-450'], dtype=object)"
      ]
     },
     "execution_count": 19,
     "metadata": {},
     "output_type": "execute_result"
    }
   ],
   "source": [
    "df1[\"months_as_customer_groups\"].unique()"
   ]
  },
  {
   "cell_type": "code",
   "execution_count": 20,
   "id": "cab5a13d",
   "metadata": {},
   "outputs": [
    {
     "data": {
      "text/plain": [
       "array(['medium', 'high', 'low', 'very high', 'very low'], dtype=object)"
      ]
     },
     "execution_count": 20,
     "metadata": {},
     "output_type": "execute_result"
    }
   ],
   "source": [
    "df1[\"policy_annual_premium_groups\"].unique()"
   ]
  },
  {
   "cell_type": "code",
   "execution_count": 21,
   "id": "dcb1090c",
   "metadata": {},
   "outputs": [
    {
     "data": {
      "text/plain": [
       "array(['501-1000', '1501-2000', '0-500'], dtype=object)"
      ]
     },
     "execution_count": 21,
     "metadata": {},
     "output_type": "execute_result"
    }
   ],
   "source": [
    "df1[\"policy_deductable_group\"].unique()"
   ]
  },
  {
   "cell_type": "code",
   "execution_count": 22,
   "id": "685f1366",
   "metadata": {},
   "outputs": [],
   "source": [
    "# ordinal sıralamaları bu şekilde listelere tanımlayacağım\n",
    "educ = [\"High School\", \"Associate\", \"College\", \"Masters\", \"Doctors Degree\"]\n",
    "sever = [\"Trivial Damage\", \"Minor Damage\", \"Major Damage\", \"Total Loss\"]\n",
    "age = ['9999', \"15-20\", \"21-25\", '26-30', '31-35', '36-40', '41-45', '46-50', '51-55', '56-60', '61-65']\n",
    "months = ['0-50', '51-100', '101-150', '151-200', '201-250', '251-300', '301-350', '351-400', '401-450', '451-500']\n",
    "premium = [\"very low\",\"low\",\"medium\",\"high\",\"very high\"]\n",
    "deduct = ['0-500', '501-1000', '1501-2000']"
   ]
  },
  {
   "cell_type": "code",
   "execution_count": 23,
   "id": "06129083",
   "metadata": {},
   "outputs": [],
   "source": [
    "# df1 verisetinden validation ve model bölme, yeni tarihli satırları validation yaptık\n",
    "df1_val = df1.sort_values(by='incident_date',ascending=False).head(200)\n",
    "df1_model = df1.sort_values(by='incident_date',ascending=False).tail(800)"
   ]
  },
  {
   "cell_type": "code",
   "execution_count": 24,
   "id": "5e753647",
   "metadata": {},
   "outputs": [],
   "source": [
    "# sıralamayı yaptıktan sonra incident_date droplandı\n",
    "df1_val = df1_val.drop([\"incident_date\"],axis=1)\n",
    "df1_model = df1_model.drop([\"incident_date\"],axis=1)"
   ]
  },
  {
   "cell_type": "code",
   "execution_count": 25,
   "id": "1f497a9e",
   "metadata": {},
   "outputs": [],
   "source": [
    "df1 = df1.drop([\"incident_date\"],axis=1)"
   ]
  },
  {
   "cell_type": "markdown",
   "id": "b6b89833",
   "metadata": {},
   "source": [
    "## Encoding"
   ]
  },
  {
   "cell_type": "code",
   "execution_count": 26,
   "id": "d7d6ede7",
   "metadata": {},
   "outputs": [
    {
     "data": {
      "text/html": [
       "<div>\n",
       "<style scoped>\n",
       "    .dataframe tbody tr th:only-of-type {\n",
       "        vertical-align: middle;\n",
       "    }\n",
       "\n",
       "    .dataframe tbody tr th {\n",
       "        vertical-align: top;\n",
       "    }\n",
       "\n",
       "    .dataframe thead th {\n",
       "        text-align: right;\n",
       "    }\n",
       "</style>\n",
       "<table border=\"1\" class=\"dataframe\">\n",
       "  <thead>\n",
       "    <tr style=\"text-align: right;\">\n",
       "      <th></th>\n",
       "      <th>insured_education_level</th>\n",
       "      <th>incident_severity</th>\n",
       "      <th>age_group</th>\n",
       "      <th>months_as_customer_groups</th>\n",
       "      <th>policy_annual_premium_groups</th>\n",
       "      <th>policy_deductable_group</th>\n",
       "    </tr>\n",
       "  </thead>\n",
       "  <tbody>\n",
       "    <tr>\n",
       "      <th>511</th>\n",
       "      <td>4</td>\n",
       "      <td>0</td>\n",
       "      <td>7</td>\n",
       "      <td>5</td>\n",
       "      <td>2</td>\n",
       "      <td>1</td>\n",
       "    </tr>\n",
       "    <tr>\n",
       "      <th>894</th>\n",
       "      <td>4</td>\n",
       "      <td>1</td>\n",
       "      <td>4</td>\n",
       "      <td>0</td>\n",
       "      <td>2</td>\n",
       "      <td>0</td>\n",
       "    </tr>\n",
       "    <tr>\n",
       "      <th>125</th>\n",
       "      <td>4</td>\n",
       "      <td>3</td>\n",
       "      <td>5</td>\n",
       "      <td>4</td>\n",
       "      <td>2</td>\n",
       "      <td>1</td>\n",
       "    </tr>\n",
       "    <tr>\n",
       "      <th>895</th>\n",
       "      <td>0</td>\n",
       "      <td>2</td>\n",
       "      <td>5</td>\n",
       "      <td>3</td>\n",
       "      <td>2</td>\n",
       "      <td>0</td>\n",
       "    </tr>\n",
       "    <tr>\n",
       "      <th>485</th>\n",
       "      <td>1</td>\n",
       "      <td>3</td>\n",
       "      <td>3</td>\n",
       "      <td>1</td>\n",
       "      <td>2</td>\n",
       "      <td>2</td>\n",
       "    </tr>\n",
       "  </tbody>\n",
       "</table>\n",
       "</div>"
      ],
      "text/plain": [
       "     insured_education_level  incident_severity  age_group  \\\n",
       "511                        4                  0          7   \n",
       "894                        4                  1          4   \n",
       "125                        4                  3          5   \n",
       "895                        0                  2          5   \n",
       "485                        1                  3          3   \n",
       "\n",
       "     months_as_customer_groups  policy_annual_premium_groups  \\\n",
       "511                          5                             2   \n",
       "894                          0                             2   \n",
       "125                          4                             2   \n",
       "895                          3                             2   \n",
       "485                          1                             2   \n",
       "\n",
       "     policy_deductable_group  \n",
       "511                        1  \n",
       "894                        0  \n",
       "125                        1  \n",
       "895                        0  \n",
       "485                        2  "
      ]
     },
     "execution_count": 26,
     "metadata": {},
     "output_type": "execute_result"
    }
   ],
   "source": [
    "# önce ordinal encoder'i belirttiğim kolonlara uyguluyorum\n",
    "from sklearn.preprocessing import OrdinalEncoder\n",
    "\n",
    "df2_model = df1_model\n",
    "oe = OrdinalEncoder(categories=[educ,sever,age,months,premium,deduct], dtype = \"int64\")\n",
    "df2_model[ordinal_list] = oe.fit_transform(df2_model[ordinal_list])\n",
    "df2_model[ordinal_list].head()"
   ]
  },
  {
   "cell_type": "code",
   "execution_count": 28,
   "id": "a9b72268",
   "metadata": {},
   "outputs": [],
   "source": [
    "from sklearn.preprocessing import OneHotEncoder\n",
    "from sklearn.compose import make_column_transformer\n",
    "\n",
    "# OneHotEncoder'i fit edip column transformer üzerinden modele uyguladım\n",
    "ohe = OneHotEncoder(handle_unknown='ignore', dtype=\"int64\")\n",
    "ct = make_column_transformer((ohe, ohe_list), remainder=\"passthrough\")\n",
    "# yeni bir df oluşturarak transformu gerçekleştirdim ve kolon isimlerini get_feature_names yardımıyla verdim\n",
    "df2_model = pd.DataFrame(ct.fit_transform(df2_model).toarray(), columns=ct.get_feature_names())"
   ]
  },
  {
   "cell_type": "code",
   "execution_count": 29,
   "id": "5ba845ce",
   "metadata": {},
   "outputs": [
    {
     "data": {
      "text/html": [
       "<div>\n",
       "<style scoped>\n",
       "    .dataframe tbody tr th:only-of-type {\n",
       "        vertical-align: middle;\n",
       "    }\n",
       "\n",
       "    .dataframe tbody tr th {\n",
       "        vertical-align: top;\n",
       "    }\n",
       "\n",
       "    .dataframe thead th {\n",
       "        text-align: right;\n",
       "    }\n",
       "</style>\n",
       "<table border=\"1\" class=\"dataframe\">\n",
       "  <thead>\n",
       "    <tr style=\"text-align: right;\">\n",
       "      <th></th>\n",
       "      <th>onehotencoder__x0_FEMALE</th>\n",
       "      <th>onehotencoder__x0_MALE</th>\n",
       "      <th>onehotencoder__x1_IL</th>\n",
       "      <th>onehotencoder__x1_IN</th>\n",
       "      <th>onehotencoder__x1_OH</th>\n",
       "      <th>onehotencoder__x2_0.0</th>\n",
       "      <th>onehotencoder__x2_9999</th>\n",
       "      <th>onehotencoder__x2_other</th>\n",
       "      <th>onehotencoder__x3_adm-clerical</th>\n",
       "      <th>onehotencoder__x3_armed-forces</th>\n",
       "      <th>...</th>\n",
       "      <th>bodily_injuries</th>\n",
       "      <th>witnesses</th>\n",
       "      <th>total_claim_amount</th>\n",
       "      <th>auto_year</th>\n",
       "      <th>claim_day_of_policy</th>\n",
       "      <th>age_group</th>\n",
       "      <th>months_as_customer_groups</th>\n",
       "      <th>policy_annual_premium_groups</th>\n",
       "      <th>policy_deductable_group</th>\n",
       "      <th>fraud_reported</th>\n",
       "    </tr>\n",
       "  </thead>\n",
       "  <tbody>\n",
       "    <tr>\n",
       "      <th>0</th>\n",
       "      <td>1</td>\n",
       "      <td>0</td>\n",
       "      <td>0</td>\n",
       "      <td>0</td>\n",
       "      <td>1</td>\n",
       "      <td>1</td>\n",
       "      <td>0</td>\n",
       "      <td>0</td>\n",
       "      <td>0</td>\n",
       "      <td>0</td>\n",
       "      <td>...</td>\n",
       "      <td>2</td>\n",
       "      <td>3</td>\n",
       "      <td>6560</td>\n",
       "      <td>2003</td>\n",
       "      <td>4427</td>\n",
       "      <td>7</td>\n",
       "      <td>5</td>\n",
       "      <td>2</td>\n",
       "      <td>1</td>\n",
       "      <td>0</td>\n",
       "    </tr>\n",
       "    <tr>\n",
       "      <th>1</th>\n",
       "      <td>0</td>\n",
       "      <td>1</td>\n",
       "      <td>0</td>\n",
       "      <td>1</td>\n",
       "      <td>0</td>\n",
       "      <td>1</td>\n",
       "      <td>0</td>\n",
       "      <td>0</td>\n",
       "      <td>0</td>\n",
       "      <td>0</td>\n",
       "      <td>...</td>\n",
       "      <td>1</td>\n",
       "      <td>3</td>\n",
       "      <td>6000</td>\n",
       "      <td>2000</td>\n",
       "      <td>8921</td>\n",
       "      <td>4</td>\n",
       "      <td>0</td>\n",
       "      <td>2</td>\n",
       "      <td>0</td>\n",
       "      <td>0</td>\n",
       "    </tr>\n",
       "    <tr>\n",
       "      <th>2</th>\n",
       "      <td>0</td>\n",
       "      <td>1</td>\n",
       "      <td>0</td>\n",
       "      <td>1</td>\n",
       "      <td>0</td>\n",
       "      <td>0</td>\n",
       "      <td>0</td>\n",
       "      <td>1</td>\n",
       "      <td>0</td>\n",
       "      <td>0</td>\n",
       "      <td>...</td>\n",
       "      <td>2</td>\n",
       "      <td>3</td>\n",
       "      <td>36300</td>\n",
       "      <td>2013</td>\n",
       "      <td>205</td>\n",
       "      <td>5</td>\n",
       "      <td>4</td>\n",
       "      <td>2</td>\n",
       "      <td>1</td>\n",
       "      <td>0</td>\n",
       "    </tr>\n",
       "    <tr>\n",
       "      <th>3</th>\n",
       "      <td>0</td>\n",
       "      <td>1</td>\n",
       "      <td>1</td>\n",
       "      <td>0</td>\n",
       "      <td>0</td>\n",
       "      <td>1</td>\n",
       "      <td>0</td>\n",
       "      <td>0</td>\n",
       "      <td>0</td>\n",
       "      <td>1</td>\n",
       "      <td>...</td>\n",
       "      <td>0</td>\n",
       "      <td>3</td>\n",
       "      <td>55200</td>\n",
       "      <td>1998</td>\n",
       "      <td>1980</td>\n",
       "      <td>5</td>\n",
       "      <td>3</td>\n",
       "      <td>2</td>\n",
       "      <td>0</td>\n",
       "      <td>1</td>\n",
       "    </tr>\n",
       "    <tr>\n",
       "      <th>4</th>\n",
       "      <td>0</td>\n",
       "      <td>1</td>\n",
       "      <td>0</td>\n",
       "      <td>1</td>\n",
       "      <td>0</td>\n",
       "      <td>1</td>\n",
       "      <td>0</td>\n",
       "      <td>0</td>\n",
       "      <td>1</td>\n",
       "      <td>0</td>\n",
       "      <td>...</td>\n",
       "      <td>2</td>\n",
       "      <td>1</td>\n",
       "      <td>48290</td>\n",
       "      <td>1995</td>\n",
       "      <td>7692</td>\n",
       "      <td>3</td>\n",
       "      <td>1</td>\n",
       "      <td>2</td>\n",
       "      <td>2</td>\n",
       "      <td>0</td>\n",
       "    </tr>\n",
       "  </tbody>\n",
       "</table>\n",
       "<p>5 rows × 136 columns</p>\n",
       "</div>"
      ],
      "text/plain": [
       "   onehotencoder__x0_FEMALE  onehotencoder__x0_MALE  onehotencoder__x1_IL  \\\n",
       "0                         1                       0                     0   \n",
       "1                         0                       1                     0   \n",
       "2                         0                       1                     0   \n",
       "3                         0                       1                     1   \n",
       "4                         0                       1                     0   \n",
       "\n",
       "   onehotencoder__x1_IN  onehotencoder__x1_OH  onehotencoder__x2_0.0  \\\n",
       "0                     0                     1                      1   \n",
       "1                     1                     0                      1   \n",
       "2                     1                     0                      0   \n",
       "3                     0                     0                      1   \n",
       "4                     1                     0                      1   \n",
       "\n",
       "   onehotencoder__x2_9999  onehotencoder__x2_other  \\\n",
       "0                       0                        0   \n",
       "1                       0                        0   \n",
       "2                       0                        1   \n",
       "3                       0                        0   \n",
       "4                       0                        0   \n",
       "\n",
       "   onehotencoder__x3_adm-clerical  onehotencoder__x3_armed-forces  ...  \\\n",
       "0                               0                               0  ...   \n",
       "1                               0                               0  ...   \n",
       "2                               0                               0  ...   \n",
       "3                               0                               1  ...   \n",
       "4                               1                               0  ...   \n",
       "\n",
       "   bodily_injuries  witnesses  total_claim_amount  auto_year  \\\n",
       "0                2          3                6560       2003   \n",
       "1                1          3                6000       2000   \n",
       "2                2          3               36300       2013   \n",
       "3                0          3               55200       1998   \n",
       "4                2          1               48290       1995   \n",
       "\n",
       "   claim_day_of_policy  age_group  months_as_customer_groups  \\\n",
       "0                 4427          7                          5   \n",
       "1                 8921          4                          0   \n",
       "2                  205          5                          4   \n",
       "3                 1980          5                          3   \n",
       "4                 7692          3                          1   \n",
       "\n",
       "   policy_annual_premium_groups  policy_deductable_group  fraud_reported  \n",
       "0                             2                        1               0  \n",
       "1                             2                        0               0  \n",
       "2                             2                        1               0  \n",
       "3                             2                        0               1  \n",
       "4                             2                        2               0  \n",
       "\n",
       "[5 rows x 136 columns]"
      ]
     },
     "execution_count": 29,
     "metadata": {},
     "output_type": "execute_result"
    }
   ],
   "source": [
    "# modelin OneHotEncoding ve OrdinalEncoder uygulanmış hali\n",
    "df2_model.head()"
   ]
  },
  {
   "cell_type": "markdown",
   "id": "bbc5aa73",
   "metadata": {},
   "source": [
    "## Features and Target"
   ]
  },
  {
   "cell_type": "code",
   "execution_count": 30,
   "id": "97e2cf4b",
   "metadata": {},
   "outputs": [],
   "source": [
    "# verisetini feature ve target olarak ayırıyorum\n",
    "X = df2_model.loc[:, df2_model.columns != 'fraud_reported']\n",
    "y = df2_model[\"fraud_reported\"]"
   ]
  },
  {
   "cell_type": "markdown",
   "id": "7fec9ea0",
   "metadata": {},
   "source": [
    "## Scaling"
   ]
  },
  {
   "cell_type": "code",
   "execution_count": 31,
   "id": "49b3def6",
   "metadata": {},
   "outputs": [],
   "source": [
    "# Feature değerleri StandardScaler'a sokuyorum\n",
    "from sklearn.preprocessing import StandardScaler\n",
    "\n",
    "sc = StandardScaler()\n",
    "X = sc.fit_transform(X)"
   ]
  },
  {
   "cell_type": "code",
   "execution_count": 32,
   "id": "7fb386ec",
   "metadata": {},
   "outputs": [
    {
     "data": {
      "text/plain": [
       "array([[ 0.93228691, -0.93228691, -0.73178456, ...,  0.51401352,\n",
       "        -0.01310669,  0.02944272],\n",
       "       [-1.07263117,  1.07263117, -0.73178456, ..., -1.57335104,\n",
       "        -0.01310669, -1.21025068],\n",
       "       [-1.07263117,  1.07263117, -0.73178456, ...,  0.09654061,\n",
       "        -0.01310669,  0.02944272],\n",
       "       ...,\n",
       "       [-1.07263117,  1.07263117,  1.36652242, ...,  1.76643226,\n",
       "        -1.76066488,  1.26913612],\n",
       "       [-1.07263117,  1.07263117, -0.73178456, ..., -0.73840521,\n",
       "         1.73445151, -1.21025068],\n",
       "       [ 0.93228691, -0.93228691, -0.73178456, ..., -1.57335104,\n",
       "        -1.76066488, -1.21025068]])"
      ]
     },
     "execution_count": 32,
     "metadata": {},
     "output_type": "execute_result"
    }
   ],
   "source": [
    "X"
   ]
  },
  {
   "cell_type": "markdown",
   "id": "d200a107",
   "metadata": {},
   "source": [
    "## Splitting in train and test data"
   ]
  },
  {
   "cell_type": "code",
   "execution_count": 33,
   "id": "1acceafd",
   "metadata": {},
   "outputs": [],
   "source": [
    "# Modelin train-test olarak ayrılması\n",
    "X_train, X_test, y_train, y_test = train_test_split(X, y, test_size = 0.3, random_state = 42)"
   ]
  },
  {
   "cell_type": "code",
   "execution_count": 34,
   "id": "96ad1559",
   "metadata": {},
   "outputs": [
    {
     "name": "stderr",
     "output_type": "stream",
     "text": [
      "C:\\ProgramData\\Anaconda3\\lib\\site-packages\\seaborn\\_decorators.py:36: FutureWarning: Pass the following variable as a keyword arg: x. From version 0.12, the only valid positional argument will be `data`, and passing other arguments without an explicit keyword will result in an error or misinterpretation.\n",
      "  warnings.warn(\n"
     ]
    },
    {
     "data": {
      "text/plain": [
       "<AxesSubplot:xlabel='fraud_reported', ylabel='count'>"
      ]
     },
     "execution_count": 34,
     "metadata": {},
     "output_type": "execute_result"
    },
    {
     "data": {
      "image/png": "[encoded data removed]",
      "text/plain": [
       "<Figure size 432x288 with 1 Axes>"
      ]
     },
     "metadata": {
      "needs_background": "light"
     },
     "output_type": "display_data"
    }
   ],
   "source": [
    "# train'in target değişkeninin ne kadarı 0 ne kadarı 1 kontrolü\n",
    "# verisetinin imbalancelığı train'e de yansımış\n",
    "chck = pd.DataFrame()\n",
    "chck['fraud_reported'] = y_train\n",
    "\n",
    "sns.countplot(chck['fraud_reported'])"
   ]
  },
  {
   "cell_type": "markdown",
   "id": "5a68fe0b",
   "metadata": {},
   "source": [
    "# Logistic Regression"
   ]
  },
  {
   "cell_type": "code",
   "execution_count": 35,
   "id": "46a4d032",
   "metadata": {},
   "outputs": [
    {
     "name": "stdout",
     "output_type": "stream",
     "text": [
      "0.7125\n",
      "              precision    recall  f1-score   support\n",
      "\n",
      "           0       0.76      0.86      0.81       170\n",
      "           1       0.51      0.36      0.42        70\n",
      "\n",
      "    accuracy                           0.71       240\n",
      "   macro avg       0.64      0.61      0.61       240\n",
      "weighted avg       0.69      0.71      0.70       240\n",
      "\n"
     ]
    }
   ],
   "source": [
    "# ilk model denemesi, 1'leri tahmin etmesi düşük çıktığı için oversampling yapmaya karar verdik\n",
    "lr = LogisticRegression()\n",
    "\n",
    "lr.fit(X_train, y_train)\n",
    "preds = lr.predict(X_test)\n",
    "\n",
    "score = lr.score(X_test, y_test)\n",
    "print(score)\n",
    "print(classification_report(y_test, preds))"
   ]
  },
  {
   "cell_type": "markdown",
   "id": "7f16c585",
   "metadata": {},
   "source": [
    "## Synthetic Minority Over-sampling Technique (SMOTE)"
   ]
  },
  {
   "cell_type": "code",
   "execution_count": 36,
   "id": "1a43c530",
   "metadata": {
    "execution": {
     "iopub.execute_input": "2020-08-27T14:32:41.412414Z",
     "iopub.status.busy": "2020-08-27T14:32:41.411367Z",
     "iopub.status.idle": "2020-08-27T14:32:41.417382Z",
     "shell.execute_reply": "2020-08-27T14:32:41.416683Z"
    },
    "id": "HsJLQ16D-euD",
    "papermill": {
     "duration": 0.048978,
     "end_time": "2020-08-27T14:32:41.417505",
     "exception": false,
     "start_time": "2020-08-27T14:32:41.368527",
     "status": "completed"
    },
    "tags": []
   },
   "outputs": [],
   "source": [
    "oversample = SMOTE(random_state=9)"
   ]
  },
  {
   "cell_type": "code",
   "execution_count": 37,
   "id": "fbaf1865",
   "metadata": {},
   "outputs": [],
   "source": [
    "X_over, y_over = oversample.fit_resample(X_train, y_train)"
   ]
  },
  {
   "cell_type": "code",
   "execution_count": 38,
   "id": "67447d57",
   "metadata": {},
   "outputs": [],
   "source": [
    "X_train, X_test, y_train, y_test = train_test_split(X_over, y_over, test_size = 0.3, random_state = 1)"
   ]
  },
  {
   "cell_type": "code",
   "execution_count": 39,
   "id": "728e2701",
   "metadata": {},
   "outputs": [
    {
     "name": "stderr",
     "output_type": "stream",
     "text": [
      "C:\\ProgramData\\Anaconda3\\lib\\site-packages\\seaborn\\_decorators.py:36: FutureWarning: Pass the following variable as a keyword arg: x. From version 0.12, the only valid positional argument will be `data`, and passing other arguments without an explicit keyword will result in an error or misinterpretation.\n",
      "  warnings.warn(\n"
     ]
    },
    {
     "data": {
      "text/plain": [
       "<AxesSubplot:xlabel='fraud_reported', ylabel='count'>"
      ]
     },
     "execution_count": 39,
     "metadata": {},
     "output_type": "execute_result"
    },
    {
     "data": {
      "image/png": "[encoded data removed]",
      "text/plain": [
       "<Figure size 432x288 with 1 Axes>"
      ]
     },
     "metadata": {
      "needs_background": "light"
     },
     "output_type": "display_data"
    }
   ],
   "source": [
    "# oversampling yapıldı ve 0-1 dengelendi\n",
    "chck2 = pd.DataFrame()\n",
    "chck2['fraud_reported'] = y_train\n",
    "\n",
    "sns.countplot(chck2['fraud_reported'])"
   ]
  },
  {
   "cell_type": "code",
   "execution_count": 40,
   "id": "a4def5c3",
   "metadata": {
    "execution": {
     "iopub.execute_input": "2020-08-27T14:32:42.336121Z",
     "iopub.status.busy": "2020-08-27T14:32:42.334922Z",
     "iopub.status.idle": "2020-08-27T14:32:42.364597Z",
     "shell.execute_reply": "2020-08-27T14:32:42.365698Z"
    },
    "id": "CLVhk5xJXZG1",
    "outputId": "eb74b8ce-d622-480a-9218-e85a85fc1032",
    "papermill": {
     "duration": 0.078051,
     "end_time": "2020-08-27T14:32:42.365950",
     "exception": false,
     "start_time": "2020-08-27T14:32:42.287899",
     "status": "completed"
    },
    "tags": []
   },
   "outputs": [
    {
     "name": "stdout",
     "output_type": "stream",
     "text": [
      "0.6785714285714286\n",
      "\n",
      "              precision    recall  f1-score   support\n",
      "\n",
      "           0       0.68      0.69      0.68       128\n",
      "           1       0.67      0.67      0.67       124\n",
      "\n",
      "    accuracy                           0.68       252\n",
      "   macro avg       0.68      0.68      0.68       252\n",
      "weighted avg       0.68      0.68      0.68       252\n",
      "\n"
     ]
    },
    {
     "data": {
      "text/plain": [
       "<AxesSubplot:>"
      ]
     },
     "execution_count": 40,
     "metadata": {},
     "output_type": "execute_result"
    },
    {
     "data": {
      "image/png": "[encoded data removed]",
      "text/plain": [
       "<Figure size 432x288 with 2 Axes>"
      ]
     },
     "metadata": {
      "needs_background": "light"
     },
     "output_type": "display_data"
    }
   ],
   "source": [
    "# oversampling sonrası 0 ve 1'in recall oranları birbirine yaklaştı\n",
    "lr.fit(X_train, y_train)\n",
    "preds = lr.predict(X_test)\n",
    "score = lr.score(X_test, y_test)\n",
    "print(score)\n",
    "print()\n",
    "print(classification_report(y_test, preds))\n",
    "cm = confusion_matrix(y_test, preds)\n",
    "sns\n",
    "sns.heatmap(cm, annot=True)"
   ]
  },
  {
   "cell_type": "markdown",
   "id": "a8aef267",
   "metadata": {},
   "source": [
    "## Decision Tree"
   ]
  },
  {
   "cell_type": "code",
   "execution_count": 41,
   "id": "388d52f6",
   "metadata": {},
   "outputs": [
    {
     "name": "stdout",
     "output_type": "stream",
     "text": [
      "0.8690476190476191\n",
      "\n",
      "              precision    recall  f1-score   support\n",
      "\n",
      "           0       0.85      0.91      0.88       128\n",
      "           1       0.90      0.83      0.86       124\n",
      "\n",
      "    accuracy                           0.87       252\n",
      "   macro avg       0.87      0.87      0.87       252\n",
      "weighted avg       0.87      0.87      0.87       252\n",
      "\n"
     ]
    },
    {
     "data": {
      "text/plain": [
       "<AxesSubplot:>"
      ]
     },
     "execution_count": 41,
     "metadata": {},
     "output_type": "execute_result"
    },
    {
     "data": {
      "image/png": "[encoded data removed]",
      "text/plain": [
       "<Figure size 432x288 with 2 Axes>"
      ]
     },
     "metadata": {
      "needs_background": "light"
     },
     "output_type": "display_data"
    }
   ],
   "source": [
    "# diğer modeller deneniyor\n",
    "dtc = DecisionTreeClassifier()\n",
    "\n",
    "dtc.fit(X_train, y_train)\n",
    "preds = dtc.predict(X_test)\n",
    "\n",
    "score = dtc.score(X_test, y_test)\n",
    "print(score)\n",
    "print()\n",
    "print(classification_report(y_test, preds))\n",
    "\n",
    "cm = confusion_matrix(y_test, preds)\n",
    "sns\n",
    "sns.heatmap(cm, annot=True)"
   ]
  },
  {
   "cell_type": "markdown",
   "id": "926e5f52",
   "metadata": {},
   "source": [
    "**Gelişme var, diğerlerine bakmaya devam edelim**"
   ]
  },
  {
   "cell_type": "markdown",
   "id": "a4a076b3",
   "metadata": {},
   "source": [
    "## Random Forest"
   ]
  },
  {
   "cell_type": "code",
   "execution_count": 42,
   "id": "8aa047af",
   "metadata": {},
   "outputs": [
    {
     "name": "stdout",
     "output_type": "stream",
     "text": [
      "92.46031746031747\n",
      "\n",
      "              precision    recall  f1-score   support\n",
      "\n",
      "           0       0.90      0.96      0.93       128\n",
      "           1       0.96      0.89      0.92       124\n",
      "\n",
      "    accuracy                           0.92       252\n",
      "   macro avg       0.93      0.92      0.92       252\n",
      "weighted avg       0.93      0.92      0.92       252\n",
      "\n"
     ]
    },
    {
     "data": {
      "text/plain": [
       "<AxesSubplot:>"
      ]
     },
     "execution_count": 42,
     "metadata": {},
     "output_type": "execute_result"
    },
    {
     "data": {
      "image/png": "[encoded data removed]",
      "text/plain": [
       "<Figure size 432x288 with 2 Axes>"
      ]
     },
     "metadata": {
      "needs_background": "light"
     },
     "output_type": "display_data"
    }
   ],
   "source": [
    "rfc = RandomForestClassifier(random_state = 1)\n",
    "\n",
    "rfc.fit(X_train, y_train)\n",
    "preds = rfc.predict(X_test)\n",
    "\n",
    "score = rfc.score(X_test, y_test)\n",
    "print(score*100)\n",
    "print()\n",
    "print(classification_report(y_test, preds))\n",
    "\n",
    "cm = confusion_matrix(y_test, preds)\n",
    "sns\n",
    "sns.heatmap(cm, annot=True)"
   ]
  },
  {
   "cell_type": "markdown",
   "id": "b3e3ce90",
   "metadata": {},
   "source": [
    "**Çok daha iyi, bakmaya devam edelim**"
   ]
  },
  {
   "cell_type": "markdown",
   "id": "28884e85",
   "metadata": {},
   "source": [
    "## Support Vector"
   ]
  },
  {
   "cell_type": "code",
   "execution_count": 43,
   "id": "632c5b96",
   "metadata": {},
   "outputs": [
    {
     "name": "stdout",
     "output_type": "stream",
     "text": [
      "Score: 0.8849206349206349\n",
      "              precision    recall  f1-score   support\n",
      "\n",
      "           0       0.92      0.85      0.88       128\n",
      "           1       0.86      0.92      0.89       124\n",
      "\n",
      "    accuracy                           0.88       252\n",
      "   macro avg       0.89      0.89      0.88       252\n",
      "weighted avg       0.89      0.88      0.88       252\n",
      "\n"
     ]
    },
    {
     "data": {
      "text/plain": [
       "<AxesSubplot:>"
      ]
     },
     "execution_count": 43,
     "metadata": {},
     "output_type": "execute_result"
    },
    {
     "data": {
      "image/png": "[encoded data removed]",
      "text/plain": [
       "<Figure size 432x288 with 2 Axes>"
      ]
     },
     "metadata": {
      "needs_background": "light"
     },
     "output_type": "display_data"
    }
   ],
   "source": [
    "svc = SVC(kernel='poly', probability=True, random_state = 10)\n",
    "svc.fit(X_train, y_train)\n",
    "\n",
    "preds = svc.predict(X_test)\n",
    "\n",
    "print('Score:' , svc.score(X_test, y_test))\n",
    "print(classification_report(y_test, preds))\n",
    "\n",
    "cm = confusion_matrix(y_test, preds)\n",
    "sns\n",
    "sns.heatmap(cm, annot=True)"
   ]
  },
  {
   "cell_type": "markdown",
   "id": "054ebc17",
   "metadata": {},
   "source": [
    "**1'leri tahmin etmede en iyisi bu, ancak genel skoru rfc'den düşük**"
   ]
  },
  {
   "cell_type": "code",
   "execution_count": 44,
   "id": "9faa2cd8",
   "metadata": {},
   "outputs": [
    {
     "name": "stdout",
     "output_type": "stream",
     "text": [
      "Score: 0.8928571428571429\n",
      "              precision    recall  f1-score   support\n",
      "\n",
      "           0       0.90      0.88      0.89       128\n",
      "           1       0.88      0.90      0.89       124\n",
      "\n",
      "    accuracy                           0.89       252\n",
      "   macro avg       0.89      0.89      0.89       252\n",
      "weighted avg       0.89      0.89      0.89       252\n",
      "\n"
     ]
    },
    {
     "data": {
      "text/plain": [
       "<AxesSubplot:>"
      ]
     },
     "execution_count": 44,
     "metadata": {},
     "output_type": "execute_result"
    },
    {
     "data": {
      "image/png": "[encoded data removed]",
      "text/plain": [
       "<Figure size 432x288 with 2 Axes>"
      ]
     },
     "metadata": {
      "needs_background": "light"
     },
     "output_type": "display_data"
    }
   ],
   "source": [
    "svc_rbf = SVC(kernel='rbf', probability=True, random_state = 10)\n",
    "svc_rbf.fit(X_train, y_train)\n",
    "\n",
    "preds = svc_rbf.predict(X_test)\n",
    "\n",
    "print('Score:' , svc_rbf.score(X_test, y_test))\n",
    "print(classification_report(y_test, preds))\n",
    "\n",
    "cm = confusion_matrix(y_test, preds)\n",
    "sns\n",
    "sns.heatmap(cm, annot=True)"
   ]
  },
  {
   "cell_type": "markdown",
   "id": "76dc7655",
   "metadata": {},
   "source": [
    "**1'leri tahmin etmede bu da nerdeyse rbf kerneli kadar iyi, 0'larda daha başarılı**"
   ]
  },
  {
   "cell_type": "markdown",
   "id": "fa62e4d8",
   "metadata": {},
   "source": [
    "### Random Forest ve Support Vector'ün (rbf ve poly kernellerinde) skorlarından memnunum. Bunlar üstünden çalışacağım."
   ]
  },
  {
   "cell_type": "markdown",
   "id": "52cec4bf",
   "metadata": {},
   "source": [
    "## Hyperparameter Tuning"
   ]
  },
  {
   "cell_type": "code",
   "execution_count": 45,
   "id": "d4239478",
   "metadata": {},
   "outputs": [
    {
     "name": "stdout",
     "output_type": "stream",
     "text": [
      "Parameters currently in use:\n",
      "\n",
      "{'bootstrap': True,\n",
      " 'ccp_alpha': 0.0,\n",
      " 'class_weight': None,\n",
      " 'criterion': 'gini',\n",
      " 'max_depth': None,\n",
      " 'max_features': 'auto',\n",
      " 'max_leaf_nodes': None,\n",
      " 'max_samples': None,\n",
      " 'min_impurity_decrease': 0.0,\n",
      " 'min_impurity_split': None,\n",
      " 'min_samples_leaf': 1,\n",
      " 'min_samples_split': 2,\n",
      " 'min_weight_fraction_leaf': 0.0,\n",
      " 'n_estimators': 100,\n",
      " 'n_jobs': None,\n",
      " 'oob_score': False,\n",
      " 'random_state': 1,\n",
      " 'verbose': 0,\n",
      " 'warm_start': False}\n"
     ]
    }
   ],
   "source": [
    "# random forest üzerinden hyperparameter tuning yapacağım\n",
    "# support vector'ü tuning denemem default sonuçları verdiği için o kısmı sonradan sildim \n",
    "from pprint import pprint\n",
    "print('Parameters currently in use:\\n')\n",
    "pprint(rfc.get_params())"
   ]
  },
  {
   "cell_type": "code",
   "execution_count": 46,
   "id": "d8d25df4",
   "metadata": {},
   "outputs": [
    {
     "name": "stdout",
     "output_type": "stream",
     "text": [
      "{'bootstrap': [True, False],\n",
      " 'max_depth': [5, 8, 12, 15, 19, 22, 26, 30, None],\n",
      " 'max_features': ['auto', 'sqrt'],\n",
      " 'min_samples_leaf': [1, 2, 4],\n",
      " 'min_samples_split': [2, 5, 10],\n",
      " 'n_estimators': [100, 250, 400, 550, 700, 850, 1000]}\n"
     ]
    }
   ],
   "source": [
    "from sklearn.model_selection import RandomizedSearchCV\n",
    "# Number of trees in random forest\n",
    "n_estimators = [int(x) for x in np.linspace(start = 100, stop = 1000, num = 7)]\n",
    "# Number of features to consider at every split\n",
    "max_features = ['auto', 'sqrt']\n",
    "# Maximum number of levels in tree\n",
    "max_depth = [int(x) for x in np.linspace(5, 30, num = 8)]\n",
    "max_depth.append(None)\n",
    "# Minimum number of samples required to split a node\n",
    "min_samples_split = [2, 5, 10]\n",
    "# Minimum number of samples required at each leaf node\n",
    "min_samples_leaf = [1, 2, 4]\n",
    "# Method of selecting samples for training each tree\n",
    "bootstrap = [True, False]\n",
    "# Create the random grid\n",
    "random_grid = {'n_estimators': n_estimators,\n",
    "               'max_features': max_features,\n",
    "               'max_depth': max_depth,\n",
    "               'min_samples_split': min_samples_split,\n",
    "               'min_samples_leaf': min_samples_leaf,\n",
    "               'bootstrap': bootstrap}\n",
    "pprint(random_grid)"
   ]
  },
  {
   "cell_type": "code",
   "execution_count": 47,
   "id": "4da32631",
   "metadata": {},
   "outputs": [
    {
     "name": "stdout",
     "output_type": "stream",
     "text": [
      "Fitting 3 folds for each of 100 candidates, totalling 300 fits\n"
     ]
    },
    {
     "data": {
      "text/plain": [
       "RandomizedSearchCV(cv=3, estimator=RandomForestClassifier(), n_iter=100,\n",
       "                   n_jobs=-1,\n",
       "                   param_distributions={'bootstrap': [True, False],\n",
       "                                        'max_depth': [5, 8, 12, 15, 19, 22, 26,\n",
       "                                                      30, None],\n",
       "                                        'max_features': ['auto', 'sqrt'],\n",
       "                                        'min_samples_leaf': [1, 2, 4],\n",
       "                                        'min_samples_split': [2, 5, 10],\n",
       "                                        'n_estimators': [100, 250, 400, 550,\n",
       "                                                         700, 850, 1000]},\n",
       "                   random_state=42, verbose=2)"
      ]
     },
     "execution_count": 47,
     "metadata": {},
     "output_type": "execute_result"
    }
   ],
   "source": [
    "rf = RandomForestClassifier()\n",
    "# Random search of parameters, using 3 fold cross validation, \n",
    "# search across 100 different combinations, and use all available cores\n",
    "rf_random = RandomizedSearchCV(estimator = rf, param_distributions = random_grid, n_iter = 100, cv = 3, verbose=2, random_state=42, n_jobs = -1)\n",
    "# Fit the random search model\n",
    "rf_random.fit(X_train, y_train)"
   ]
  },
  {
   "cell_type": "code",
   "execution_count": 48,
   "id": "d83fe0dc",
   "metadata": {},
   "outputs": [
    {
     "data": {
      "text/plain": [
       "{'n_estimators': 100,\n",
       " 'min_samples_split': 2,\n",
       " 'min_samples_leaf': 1,\n",
       " 'max_features': 'sqrt',\n",
       " 'max_depth': 26,\n",
       " 'bootstrap': False}"
      ]
     },
     "execution_count": 48,
     "metadata": {},
     "output_type": "execute_result"
    }
   ],
   "source": [
    "rf_random.best_params_"
   ]
  },
  {
   "cell_type": "code",
   "execution_count": 86,
   "id": "b7bc3806",
   "metadata": {},
   "outputs": [
    {
     "name": "stdout",
     "output_type": "stream",
     "text": [
      "93.65079365079364\n",
      "\n",
      "              precision    recall  f1-score   support\n",
      "\n",
      "           0       0.89      0.99      0.94       128\n",
      "           1       0.99      0.88      0.93       124\n",
      "\n",
      "    accuracy                           0.94       252\n",
      "   macro avg       0.94      0.94      0.94       252\n",
      "weighted avg       0.94      0.94      0.94       252\n",
      "\n"
     ]
    },
    {
     "data": {
      "text/plain": [
       "<AxesSubplot:>"
      ]
     },
     "execution_count": 86,
     "metadata": {},
     "output_type": "execute_result"
    },
    {
     "data": {
      "image/png": "[encoded data removed]",
      "text/plain": [
       "<Figure size 432x288 with 2 Axes>"
      ]
     },
     "metadata": {
      "needs_background": "light"
     },
     "output_type": "display_data"
    }
   ],
   "source": [
    "# RandomizedSearchCV'nin bulduğu en iyi parametler uygulanarak 2. RandomForest modelinin oluşturulması\n",
    "rfc2 = RandomForestClassifier(n_estimators=100,min_samples_split=2,min_samples_leaf=1,max_features='sqrt'\n",
    "                            ,max_depth=26,bootstrap='False', random_state=42)\n",
    "rfc2.fit(X_train, y_train)\n",
    "\n",
    "preds = rfc2.predict(X_test)\n",
    "\n",
    "score = rfc2.score(X_test, y_test)\n",
    "print(score*100)\n",
    "print()\n",
    "print(classification_report(y_test, preds))\n",
    "\n",
    "cm = confusion_matrix(y_test, preds)\n",
    "sns\n",
    "sns.heatmap(cm, annot=True)"
   ]
  },
  {
   "cell_type": "markdown",
   "id": "4b92a8b7",
   "metadata": {},
   "source": [
    "**Tuning sonrası 0'ların tahmin başarısı 0.03 artararak 0.99'a gelirken 1'lerde 0.01 puanlık bir düşüş oldu, o yüzden validationda hem tuningli hem tuningsiz hallerini denemeye karar verdim** "
   ]
  },
  {
   "cell_type": "markdown",
   "id": "63a6cd65",
   "metadata": {},
   "source": [
    "## Validation Encoding"
   ]
  },
  {
   "cell_type": "code",
   "execution_count": 50,
   "id": "a0b06574",
   "metadata": {},
   "outputs": [
    {
     "data": {
      "text/html": [
       "<div>\n",
       "<style scoped>\n",
       "    .dataframe tbody tr th:only-of-type {\n",
       "        vertical-align: middle;\n",
       "    }\n",
       "\n",
       "    .dataframe tbody tr th {\n",
       "        vertical-align: top;\n",
       "    }\n",
       "\n",
       "    .dataframe thead th {\n",
       "        text-align: right;\n",
       "    }\n",
       "</style>\n",
       "<table border=\"1\" class=\"dataframe\">\n",
       "  <thead>\n",
       "    <tr style=\"text-align: right;\">\n",
       "      <th></th>\n",
       "      <th>insured_education_level</th>\n",
       "      <th>incident_severity</th>\n",
       "      <th>age_group</th>\n",
       "      <th>months_as_customer_groups</th>\n",
       "      <th>policy_annual_premium_groups</th>\n",
       "      <th>policy_deductable_group</th>\n",
       "    </tr>\n",
       "  </thead>\n",
       "  <tbody>\n",
       "    <tr>\n",
       "      <th>752</th>\n",
       "      <td>4</td>\n",
       "      <td>1</td>\n",
       "      <td>0</td>\n",
       "      <td>8</td>\n",
       "      <td>1</td>\n",
       "      <td>0</td>\n",
       "    </tr>\n",
       "    <tr>\n",
       "      <th>74</th>\n",
       "      <td>1</td>\n",
       "      <td>1</td>\n",
       "      <td>5</td>\n",
       "      <td>4</td>\n",
       "      <td>2</td>\n",
       "      <td>1</td>\n",
       "    </tr>\n",
       "    <tr>\n",
       "      <th>914</th>\n",
       "      <td>4</td>\n",
       "      <td>2</td>\n",
       "      <td>5</td>\n",
       "      <td>2</td>\n",
       "      <td>1</td>\n",
       "      <td>2</td>\n",
       "    </tr>\n",
       "    <tr>\n",
       "      <th>883</th>\n",
       "      <td>1</td>\n",
       "      <td>2</td>\n",
       "      <td>4</td>\n",
       "      <td>2</td>\n",
       "      <td>2</td>\n",
       "      <td>1</td>\n",
       "    </tr>\n",
       "    <tr>\n",
       "      <th>839</th>\n",
       "      <td>1</td>\n",
       "      <td>2</td>\n",
       "      <td>6</td>\n",
       "      <td>4</td>\n",
       "      <td>2</td>\n",
       "      <td>0</td>\n",
       "    </tr>\n",
       "  </tbody>\n",
       "</table>\n",
       "</div>"
      ],
      "text/plain": [
       "     insured_education_level  incident_severity  age_group  \\\n",
       "752                        4                  1          0   \n",
       "74                         1                  1          5   \n",
       "914                        4                  2          5   \n",
       "883                        1                  2          4   \n",
       "839                        1                  2          6   \n",
       "\n",
       "     months_as_customer_groups  policy_annual_premium_groups  \\\n",
       "752                          8                             1   \n",
       "74                           4                             2   \n",
       "914                          2                             1   \n",
       "883                          2                             2   \n",
       "839                          4                             2   \n",
       "\n",
       "     policy_deductable_group  \n",
       "752                        0  \n",
       "74                         1  \n",
       "914                        2  \n",
       "883                        1  \n",
       "839                        0  "
      ]
     },
     "execution_count": 50,
     "metadata": {},
     "output_type": "execute_result"
    }
   ],
   "source": [
    "# önce ordinal encoder'i belirttiğim kolonlara uyguluyorum\n",
    "\n",
    "df2_val = df1_val\n",
    "oe = OrdinalEncoder(categories=[educ,sever,age,months,premium,deduct], dtype = \"int64\")\n",
    "df2_val[ordinal_list] = oe.fit_transform(df2_val[ordinal_list])\n",
    "df2_val[ordinal_list].head()"
   ]
  },
  {
   "cell_type": "code",
   "execution_count": 51,
   "id": "41e65ec6",
   "metadata": {},
   "outputs": [],
   "source": [
    "# fit edilmiş ohe ve column transformer üstünden oluşturdum \n",
    "# bu sayede aynı sayıda kolon oluştu (fit edilmiş ohe'deki handle_unknown=ignore sayesinde)\n",
    "df2_val = pd.DataFrame(ct.transform(df2_val).toarray(), columns=ct.get_feature_names())"
   ]
  },
  {
   "cell_type": "code",
   "execution_count": 52,
   "id": "dc237bb8",
   "metadata": {},
   "outputs": [
    {
     "data": {
      "text/html": [
       "<div>\n",
       "<style scoped>\n",
       "    .dataframe tbody tr th:only-of-type {\n",
       "        vertical-align: middle;\n",
       "    }\n",
       "\n",
       "    .dataframe tbody tr th {\n",
       "        vertical-align: top;\n",
       "    }\n",
       "\n",
       "    .dataframe thead th {\n",
       "        text-align: right;\n",
       "    }\n",
       "</style>\n",
       "<table border=\"1\" class=\"dataframe\">\n",
       "  <thead>\n",
       "    <tr style=\"text-align: right;\">\n",
       "      <th></th>\n",
       "      <th>onehotencoder__x0_FEMALE</th>\n",
       "      <th>onehotencoder__x0_MALE</th>\n",
       "      <th>onehotencoder__x1_IL</th>\n",
       "      <th>onehotencoder__x1_IN</th>\n",
       "      <th>onehotencoder__x1_OH</th>\n",
       "      <th>onehotencoder__x2_0.0</th>\n",
       "      <th>onehotencoder__x2_9999</th>\n",
       "      <th>onehotencoder__x2_other</th>\n",
       "      <th>onehotencoder__x3_adm-clerical</th>\n",
       "      <th>onehotencoder__x3_armed-forces</th>\n",
       "      <th>...</th>\n",
       "      <th>bodily_injuries</th>\n",
       "      <th>witnesses</th>\n",
       "      <th>total_claim_amount</th>\n",
       "      <th>auto_year</th>\n",
       "      <th>claim_day_of_policy</th>\n",
       "      <th>age_group</th>\n",
       "      <th>months_as_customer_groups</th>\n",
       "      <th>policy_annual_premium_groups</th>\n",
       "      <th>policy_deductable_group</th>\n",
       "      <th>fraud_reported</th>\n",
       "    </tr>\n",
       "  </thead>\n",
       "  <tbody>\n",
       "    <tr>\n",
       "      <th>0</th>\n",
       "      <td>0</td>\n",
       "      <td>1</td>\n",
       "      <td>1</td>\n",
       "      <td>0</td>\n",
       "      <td>0</td>\n",
       "      <td>1</td>\n",
       "      <td>0</td>\n",
       "      <td>0</td>\n",
       "      <td>0</td>\n",
       "      <td>0</td>\n",
       "      <td>...</td>\n",
       "      <td>0</td>\n",
       "      <td>2</td>\n",
       "      <td>38640</td>\n",
       "      <td>1997</td>\n",
       "      <td>5718</td>\n",
       "      <td>0</td>\n",
       "      <td>8</td>\n",
       "      <td>1</td>\n",
       "      <td>0</td>\n",
       "      <td>0</td>\n",
       "    </tr>\n",
       "    <tr>\n",
       "      <th>1</th>\n",
       "      <td>1</td>\n",
       "      <td>0</td>\n",
       "      <td>1</td>\n",
       "      <td>0</td>\n",
       "      <td>0</td>\n",
       "      <td>1</td>\n",
       "      <td>0</td>\n",
       "      <td>0</td>\n",
       "      <td>0</td>\n",
       "      <td>0</td>\n",
       "      <td>...</td>\n",
       "      <td>1</td>\n",
       "      <td>0</td>\n",
       "      <td>42930</td>\n",
       "      <td>2005</td>\n",
       "      <td>3972</td>\n",
       "      <td>5</td>\n",
       "      <td>4</td>\n",
       "      <td>2</td>\n",
       "      <td>1</td>\n",
       "      <td>0</td>\n",
       "    </tr>\n",
       "    <tr>\n",
       "      <th>2</th>\n",
       "      <td>1</td>\n",
       "      <td>0</td>\n",
       "      <td>0</td>\n",
       "      <td>0</td>\n",
       "      <td>1</td>\n",
       "      <td>1</td>\n",
       "      <td>0</td>\n",
       "      <td>0</td>\n",
       "      <td>0</td>\n",
       "      <td>0</td>\n",
       "      <td>...</td>\n",
       "      <td>0</td>\n",
       "      <td>2</td>\n",
       "      <td>72800</td>\n",
       "      <td>1998</td>\n",
       "      <td>5343</td>\n",
       "      <td>5</td>\n",
       "      <td>2</td>\n",
       "      <td>1</td>\n",
       "      <td>2</td>\n",
       "      <td>0</td>\n",
       "    </tr>\n",
       "    <tr>\n",
       "      <th>3</th>\n",
       "      <td>1</td>\n",
       "      <td>0</td>\n",
       "      <td>0</td>\n",
       "      <td>0</td>\n",
       "      <td>1</td>\n",
       "      <td>1</td>\n",
       "      <td>0</td>\n",
       "      <td>0</td>\n",
       "      <td>0</td>\n",
       "      <td>0</td>\n",
       "      <td>...</td>\n",
       "      <td>0</td>\n",
       "      <td>3</td>\n",
       "      <td>34160</td>\n",
       "      <td>2005</td>\n",
       "      <td>3374</td>\n",
       "      <td>4</td>\n",
       "      <td>2</td>\n",
       "      <td>2</td>\n",
       "      <td>1</td>\n",
       "      <td>1</td>\n",
       "    </tr>\n",
       "    <tr>\n",
       "      <th>4</th>\n",
       "      <td>0</td>\n",
       "      <td>1</td>\n",
       "      <td>0</td>\n",
       "      <td>0</td>\n",
       "      <td>1</td>\n",
       "      <td>1</td>\n",
       "      <td>0</td>\n",
       "      <td>0</td>\n",
       "      <td>0</td>\n",
       "      <td>0</td>\n",
       "      <td>...</td>\n",
       "      <td>2</td>\n",
       "      <td>2</td>\n",
       "      <td>51600</td>\n",
       "      <td>2011</td>\n",
       "      <td>9106</td>\n",
       "      <td>6</td>\n",
       "      <td>4</td>\n",
       "      <td>2</td>\n",
       "      <td>0</td>\n",
       "      <td>0</td>\n",
       "    </tr>\n",
       "  </tbody>\n",
       "</table>\n",
       "<p>5 rows × 136 columns</p>\n",
       "</div>"
      ],
      "text/plain": [
       "   onehotencoder__x0_FEMALE  onehotencoder__x0_MALE  onehotencoder__x1_IL  \\\n",
       "0                         0                       1                     1   \n",
       "1                         1                       0                     1   \n",
       "2                         1                       0                     0   \n",
       "3                         1                       0                     0   \n",
       "4                         0                       1                     0   \n",
       "\n",
       "   onehotencoder__x1_IN  onehotencoder__x1_OH  onehotencoder__x2_0.0  \\\n",
       "0                     0                     0                      1   \n",
       "1                     0                     0                      1   \n",
       "2                     0                     1                      1   \n",
       "3                     0                     1                      1   \n",
       "4                     0                     1                      1   \n",
       "\n",
       "   onehotencoder__x2_9999  onehotencoder__x2_other  \\\n",
       "0                       0                        0   \n",
       "1                       0                        0   \n",
       "2                       0                        0   \n",
       "3                       0                        0   \n",
       "4                       0                        0   \n",
       "\n",
       "   onehotencoder__x3_adm-clerical  onehotencoder__x3_armed-forces  ...  \\\n",
       "0                               0                               0  ...   \n",
       "1                               0                               0  ...   \n",
       "2                               0                               0  ...   \n",
       "3                               0                               0  ...   \n",
       "4                               0                               0  ...   \n",
       "\n",
       "   bodily_injuries  witnesses  total_claim_amount  auto_year  \\\n",
       "0                0          2               38640       1997   \n",
       "1                1          0               42930       2005   \n",
       "2                0          2               72800       1998   \n",
       "3                0          3               34160       2005   \n",
       "4                2          2               51600       2011   \n",
       "\n",
       "   claim_day_of_policy  age_group  months_as_customer_groups  \\\n",
       "0                 5718          0                          8   \n",
       "1                 3972          5                          4   \n",
       "2                 5343          5                          2   \n",
       "3                 3374          4                          2   \n",
       "4                 9106          6                          4   \n",
       "\n",
       "   policy_annual_premium_groups  policy_deductable_group  fraud_reported  \n",
       "0                             1                        0               0  \n",
       "1                             2                        1               0  \n",
       "2                             1                        2               0  \n",
       "3                             2                        1               1  \n",
       "4                             2                        0               0  \n",
       "\n",
       "[5 rows x 136 columns]"
      ]
     },
     "execution_count": 52,
     "metadata": {},
     "output_type": "execute_result"
    }
   ],
   "source": [
    "df2_val.head()"
   ]
  },
  {
   "cell_type": "markdown",
   "id": "6850220c",
   "metadata": {},
   "source": [
    "## Validation Feature and Target"
   ]
  },
  {
   "cell_type": "code",
   "execution_count": 53,
   "id": "c84baf5e",
   "metadata": {},
   "outputs": [],
   "source": [
    "X_val = df2_val.loc[:, df2_val.columns != 'fraud_reported']\n",
    "y_val = df2_val[\"fraud_reported\"]"
   ]
  },
  {
   "cell_type": "markdown",
   "id": "ceb354df",
   "metadata": {},
   "source": [
    "## Validation Scaling"
   ]
  },
  {
   "cell_type": "code",
   "execution_count": 54,
   "id": "203924a0",
   "metadata": {},
   "outputs": [],
   "source": [
    "sc = StandardScaler()\n",
    "X_val = sc.fit_transform(X_val)"
   ]
  },
  {
   "cell_type": "code",
   "execution_count": 55,
   "id": "387a82fe",
   "metadata": {},
   "outputs": [
    {
     "data": {
      "text/plain": [
       "array([[-1.0944415 ,  1.0944415 ,  1.54590766, ...,  1.77740273,\n",
       "        -1.86988495, -1.15579349],\n",
       "       [ 0.91370804, -0.91370804,  1.54590766, ...,  0.1045531 ,\n",
       "         0.05783149,  0.10050378],\n",
       "       [ 0.91370804, -0.91370804, -0.64686916, ..., -0.73187171,\n",
       "        -1.86988495,  1.35680105],\n",
       "       ...,\n",
       "       [-1.0944415 ,  1.0944415 , -0.64686916, ...,  0.94097792,\n",
       "         0.05783149, -1.15579349],\n",
       "       [-1.0944415 ,  1.0944415 , -0.64686916, ...,  1.35919032,\n",
       "         0.05783149,  1.35680105],\n",
       "       [ 0.91370804, -0.91370804, -0.64686916, ...,  1.35919032,\n",
       "         0.05783149,  0.10050378]])"
      ]
     },
     "execution_count": 55,
     "metadata": {},
     "output_type": "execute_result"
    }
   ],
   "source": [
    "X_val"
   ]
  },
  {
   "cell_type": "markdown",
   "id": "b97842e3",
   "metadata": {},
   "source": [
    "## Modellerin Validationda Denenmesi"
   ]
  },
  {
   "cell_type": "markdown",
   "id": "0ba9ce2d",
   "metadata": {},
   "source": [
    "### Tuningli RandomForest"
   ]
  },
  {
   "cell_type": "code",
   "execution_count": 87,
   "id": "37d984b9",
   "metadata": {},
   "outputs": [
    {
     "name": "stdout",
     "output_type": "stream",
     "text": [
      "53.0\n",
      "\n",
      "              precision    recall  f1-score   support\n",
      "\n",
      "           0       0.92      0.47      0.62       163\n",
      "           1       0.26      0.81      0.39        37\n",
      "\n",
      "    accuracy                           0.53       200\n",
      "   macro avg       0.59      0.64      0.50       200\n",
      "weighted avg       0.79      0.53      0.58       200\n",
      "\n"
     ]
    },
    {
     "data": {
      "text/plain": [
       "<AxesSubplot:>"
      ]
     },
     "execution_count": 87,
     "metadata": {},
     "output_type": "execute_result"
    },
    {
     "data": {
      "image/png": "[encoded data removed]",
      "text/plain": [
       "<Figure size 432x288 with 2 Axes>"
      ]
     },
     "metadata": {
      "needs_background": "light"
     },
     "output_type": "display_data"
    }
   ],
   "source": [
    "preds = rfc2.predict(X_val)\n",
    "score = rfc2.score(X_val, y_val)\n",
    "print(score*100)\n",
    "print()\n",
    "print(classification_report(y_val, preds))\n",
    "\n",
    "cm = confusion_matrix(y_val, preds)\n",
    "sns\n",
    "sns.heatmap(cm, annot=True)"
   ]
  },
  {
   "cell_type": "markdown",
   "id": "61f7b834",
   "metadata": {},
   "source": [
    "**1'lerin tahmin başarısı fena değilken 0'larda düşük kaldı, thresholdla oynayarak bu durumu düzeltmeye çalışacağım**"
   ]
  },
  {
   "cell_type": "code",
   "execution_count": 95,
   "id": "65d2dc46",
   "metadata": {},
   "outputs": [
    {
     "name": "stdout",
     "output_type": "stream",
     "text": [
      "\n",
      "              precision    recall  f1-score   support\n",
      "\n",
      "           0       0.90      0.68      0.78       163\n",
      "           1       0.32      0.68      0.44        37\n",
      "\n",
      "    accuracy                           0.68       200\n",
      "   macro avg       0.61      0.68      0.61       200\n",
      "weighted avg       0.80      0.68      0.71       200\n",
      "\n"
     ]
    }
   ],
   "source": [
    "# 1 tahmininin thresholdunu 0.58'e yükselttim\n",
    "preds = (rfc2.predict_proba(X_val)[:,1] >= 0.58).astype(bool)\n",
    "print()\n",
    "print(classification_report(y_val, preds))"
   ]
  },
  {
   "cell_type": "markdown",
   "id": "fbeae284",
   "metadata": {},
   "source": [
    "**Yeni threshold değeriyle 68'e 68 olarak modeli dengeledim. Validationda en iyi çalışan model bu oldu**"
   ]
  },
  {
   "cell_type": "markdown",
   "id": "178100d5",
   "metadata": {},
   "source": [
    "### Tuningsiz RandomForest"
   ]
  },
  {
   "cell_type": "code",
   "execution_count": 60,
   "id": "5de620f5",
   "metadata": {},
   "outputs": [
    {
     "name": "stdout",
     "output_type": "stream",
     "text": [
      "40.0\n",
      "\n",
      "              precision    recall  f1-score   support\n",
      "\n",
      "           0       0.92      0.29      0.44       163\n",
      "           1       0.22      0.89      0.35        37\n",
      "\n",
      "    accuracy                           0.40       200\n",
      "   macro avg       0.57      0.59      0.40       200\n",
      "weighted avg       0.79      0.40      0.42       200\n",
      "\n"
     ]
    },
    {
     "data": {
      "text/plain": [
       "<AxesSubplot:>"
      ]
     },
     "execution_count": 60,
     "metadata": {},
     "output_type": "execute_result"
    },
    {
     "data": {
      "image/png": "[encoded data removed]",
      "text/plain": [
       "<Figure size 432x288 with 2 Axes>"
      ]
     },
     "metadata": {
      "needs_background": "light"
     },
     "output_type": "display_data"
    }
   ],
   "source": [
    "preds = rfc.predict(X_val)\n",
    "score = rfc.score(X_val, y_val)\n",
    "print(score*100)\n",
    "print()\n",
    "print(classification_report(y_val, preds))\n",
    "\n",
    "cm = confusion_matrix(y_val, preds)\n",
    "sns\n",
    "sns.heatmap(cm, annot=True)"
   ]
  },
  {
   "cell_type": "markdown",
   "id": "de47afe9",
   "metadata": {},
   "source": [
    "**Tuningsiz haline göre 0'ların tahmini çok daha kötü, 1'lerin tahmini biraz daha iyi. 0-1 arasındaki makas çok açık olduğundan burada da threshold değiştirmeyi deneyeceğim**"
   ]
  },
  {
   "cell_type": "code",
   "execution_count": 103,
   "id": "d480536f",
   "metadata": {},
   "outputs": [
    {
     "name": "stdout",
     "output_type": "stream",
     "text": [
      "\n",
      "              precision    recall  f1-score   support\n",
      "\n",
      "           0       0.89      0.64      0.75       163\n",
      "           1       0.29      0.65      0.40        37\n",
      "\n",
      "    accuracy                           0.65       200\n",
      "   macro avg       0.59      0.65      0.58       200\n",
      "weighted avg       0.78      0.65      0.68       200\n",
      "\n"
     ]
    }
   ],
   "source": [
    "# 1 tahminin thresholdunu 0.6'ya yükselttim\n",
    "preds = (rfc.predict_proba(X_val)[:,1] >= 0.6).astype(bool)\n",
    "print()\n",
    "print(classification_report(y_val, preds))"
   ]
  },
  {
   "cell_type": "markdown",
   "id": "8b97e931",
   "metadata": {},
   "source": [
    "**1 ve 0'ı dengelemeye çalışınca Tuningli RandomForest'a oranla az bir düşüş oldu**"
   ]
  },
  {
   "cell_type": "markdown",
   "id": "de378a74",
   "metadata": {},
   "source": [
    "### SupportVector"
   ]
  },
  {
   "cell_type": "code",
   "execution_count": 57,
   "id": "6949366c",
   "metadata": {},
   "outputs": [
    {
     "name": "stdout",
     "output_type": "stream",
     "text": [
      "74.0\n",
      "              precision    recall  f1-score   support\n",
      "\n",
      "           0       0.82      0.87      0.84       163\n",
      "           1       0.24      0.19      0.21        37\n",
      "\n",
      "    accuracy                           0.74       200\n",
      "   macro avg       0.53      0.53      0.53       200\n",
      "weighted avg       0.72      0.74      0.73       200\n",
      "\n"
     ]
    },
    {
     "data": {
      "text/plain": [
       "<AxesSubplot:>"
      ]
     },
     "execution_count": 57,
     "metadata": {},
     "output_type": "execute_result"
    },
    {
     "data": {
      "image/png": "[encoded data removed]",
      "text/plain": [
       "<Figure size 432x288 with 2 Axes>"
      ]
     },
     "metadata": {
      "needs_background": "light"
     },
     "output_type": "display_data"
    }
   ],
   "source": [
    "preds = svc.predict(X_val)\n",
    "\n",
    "score = svc.score(X_val, y_val)\n",
    "print(score*100)\n",
    "print(classification_report(y_val, preds))\n",
    "\n",
    "cm = confusion_matrix(y_val, preds)\n",
    "sns\n",
    "sns.heatmap(cm, annot=True)"
   ]
  },
  {
   "cell_type": "markdown",
   "id": "aa0fdc6c",
   "metadata": {},
   "source": [
    "**0'ların tahmini çok başarılıyken 1'lerin tahmini son derece başarısız**"
   ]
  },
  {
   "cell_type": "code",
   "execution_count": 58,
   "id": "b17a2211",
   "metadata": {},
   "outputs": [
    {
     "name": "stdout",
     "output_type": "stream",
     "text": [
      "75.5\n",
      "              precision    recall  f1-score   support\n",
      "\n",
      "           0       0.84      0.86      0.85       163\n",
      "           1       0.32      0.30      0.31        37\n",
      "\n",
      "    accuracy                           0.76       200\n",
      "   macro avg       0.58      0.58      0.58       200\n",
      "weighted avg       0.75      0.76      0.75       200\n",
      "\n"
     ]
    },
    {
     "data": {
      "text/plain": [
       "<AxesSubplot:>"
      ]
     },
     "execution_count": 58,
     "metadata": {},
     "output_type": "execute_result"
    },
    {
     "data": {
      "image/png": "[encoded data removed]",
      "text/plain": [
       "<Figure size 432x288 with 2 Axes>"
      ]
     },
     "metadata": {
      "needs_background": "light"
     },
     "output_type": "display_data"
    }
   ],
   "source": [
    "preds = svc_rbf.predict(X_val)\n",
    "\n",
    "score = svc_rbf.score(X_val, y_val)\n",
    "print(score*100)\n",
    "print(classification_report(y_val, preds))\n",
    "\n",
    "cm = confusion_matrix(y_val, preds)\n",
    "sns\n",
    "sns.heatmap(cm, annot=True)"
   ]
  },
  {
   "cell_type": "markdown",
   "id": "a720ffcb",
   "metadata": {},
   "source": [
    "**Poly kerneline göre 1'lerin tahmini yaklaşık 2 kat daha başarılı, bunda da threshold değiştirerek 1 ve 0 tahminini dengelemeye çalışacağım**"
   ]
  },
  {
   "cell_type": "code",
   "execution_count": 59,
   "id": "37eb991f",
   "metadata": {},
   "outputs": [
    {
     "name": "stdout",
     "output_type": "stream",
     "text": [
      "              precision    recall  f1-score   support\n",
      "\n",
      "           0       0.86      0.63      0.73       163\n",
      "           1       0.26      0.57      0.35        37\n",
      "\n",
      "    accuracy                           0.61       200\n",
      "   macro avg       0.56      0.60      0.54       200\n",
      "weighted avg       0.75      0.62      0.66       200\n",
      "\n"
     ]
    }
   ],
   "source": [
    "# 1'lerin tahmin thresholdunu 0.25'e düşürdüm\n",
    "preds = (svc_rbf.predict_proba(X_val)[:,1] >= 0.25).astype(bool)\n",
    "\n",
    "print(classification_report(y_val, preds))"
   ]
  },
  {
   "cell_type": "markdown",
   "id": "4704f461",
   "metadata": {},
   "source": [
    "**Threshold ayarlamasından sonra RandomForest kadar başarı olamadığı gözüktü**"
   ]
  },
  {
   "cell_type": "markdown",
   "id": "616592f4",
   "metadata": {},
   "source": [
    "### VotingClassiferla Model Birleştirme"
   ]
  },
  {
   "cell_type": "markdown",
   "id": "f552a7c3",
   "metadata": {},
   "source": [
    "**RandomForest**'ın 1'lerde **SupportVector**'un 0'larda çok daha başarılı olmasından dolayı, bunları birlikte çalıştırıp çalıştıramayacağımı düşündüm. VotingClassifer'la bunu yapabileceğimi öğrenip ardından uygulamayı denedim"
   ]
  },
  {
   "cell_type": "code",
   "execution_count": 65,
   "id": "45da0c8f",
   "metadata": {},
   "outputs": [
    {
     "name": "stdout",
     "output_type": "stream",
     "text": [
      "              precision    recall  f1-score   support\n",
      "\n",
      "           0       0.98      1.00      0.99       163\n",
      "           1       1.00      0.89      0.94        37\n",
      "\n",
      "    accuracy                           0.98       200\n",
      "   macro avg       0.99      0.95      0.97       200\n",
      "weighted avg       0.98      0.98      0.98       200\n",
      "\n"
     ]
    }
   ],
   "source": [
    "from sklearn.ensemble import VotingClassifier\n",
    "\n",
    "#voting soft sayesinde predict_probası daha yüksek olanın tahmininin geçerli olmasını sağladım\n",
    "eclf1 = VotingClassifier(estimators=[\n",
    "        ('rfc', rfc2), ('svc', svc_rbf)], voting='soft')\n",
    "eclf1 = eclf1.fit(X_val, y_val)\n",
    "\n",
    "preds = eclf1.predict(X_val)\n",
    "\n",
    "print(classification_report(y_val, preds))"
   ]
  },
  {
   "cell_type": "markdown",
   "id": "ec8b9962",
   "metadata": {},
   "source": [
    "**Görüldüğü gibi çok başarılı sonuçlar verdi.** Ancak dürüst olmak gerekirse svc_rbf'nin random_state'ini değiştirdikçe çok oynuyor bu değerler. Denemelerimde 0 tahmini pek oynamasa da 1 tahmini 0.45-0.97 arası değerler aldı. Son denememde 1'e 0.86 değerlerini aldım ve öyle bıraktım."
   ]
  },
  {
   "cell_type": "code",
   "execution_count": 68,
   "id": "a83ede11",
   "metadata": {},
   "outputs": [
    {
     "name": "stdout",
     "output_type": "stream",
     "text": [
      "[[0.93095022 0.06904978 0.8592595  0.1407405 ]\n",
      " [0.90695045 0.09304955 0.85922434 0.14077566]\n",
      " [0.78994846 0.21005154 0.85924744 0.14075256]\n",
      " [0.32756962 0.67243038 0.56121939 0.43878061]\n",
      " [0.93880601 0.06119399 0.85916741 0.14083259]\n",
      " [0.18740546 0.81259454 0.36428688 0.63571312]\n",
      " [0.94601452 0.05398548 0.85922374 0.14077626]\n",
      " [0.97222921 0.02777079 0.87196824 0.12803176]\n",
      " [0.36289853 0.63710147 0.62733036 0.37266964]\n",
      " [0.90108331 0.09891669 0.85920502 0.14079498]\n",
      " [0.23730664 0.76269336 0.39841533 0.60158467]\n",
      " [0.93236941 0.06763059 0.85913756 0.14086244]\n",
      " [0.98604167 0.01395833 0.85928457 0.14071543]\n",
      " [0.90860558 0.09139442 0.85922769 0.14077231]\n",
      " [0.96255665 0.03744335 0.85919882 0.14080118]\n",
      " [0.95809741 0.04190259 0.88445755 0.11554245]\n",
      " [0.88879177 0.11120823 0.85915209 0.14084791]\n",
      " [0.9525304  0.0474696  0.86062204 0.13937796]\n",
      " [0.80210781 0.19789219 0.85924172 0.14075828]\n",
      " [0.17986842 0.82013158 0.4725408  0.5274592 ]\n",
      " [0.79622556 0.20377444 0.8592515  0.1407485 ]\n",
      " [0.83771267 0.16228733 0.85923859 0.14076141]\n",
      " [0.99198593 0.00801407 0.86071188 0.13928812]\n",
      " [0.28812406 0.71187594 0.53425964 0.46574036]\n",
      " [0.94257699 0.05742301 0.85932587 0.14067413]\n",
      " [0.77254315 0.22745685 0.85916686 0.14083314]\n",
      " [0.91474993 0.08525007 0.85924955 0.14075045]\n",
      " [0.92998612 0.07001388 0.85916008 0.14083992]\n",
      " [0.95687317 0.04312683 0.85925776 0.14074224]\n",
      " [0.30962646 0.69037354 0.62772229 0.37227771]\n",
      " [0.87737587 0.12262413 0.85919641 0.14080359]\n",
      " [0.9166515  0.0833485  0.85921433 0.14078567]\n",
      " [0.94458333 0.05541667 0.85924328 0.14075672]\n",
      " [0.28428582 0.71571418 0.57415802 0.42584198]\n",
      " [0.91603226 0.08396774 0.85925169 0.14074831]\n",
      " [0.91338546 0.08661454 0.85919512 0.14080488]\n",
      " [0.92303774 0.07696226 0.8592157  0.1407843 ]\n",
      " [0.98116479 0.01883521 0.85924506 0.14075494]\n",
      " [0.90394603 0.09605397 0.85913826 0.14086174]\n",
      " [0.37997522 0.62002478 0.60075867 0.39924133]\n",
      " [0.95614144 0.04385856 0.85922077 0.14077923]\n",
      " [0.91350329 0.08649671 0.85929861 0.14070139]\n",
      " [0.96053623 0.03946377 0.85924218 0.14075782]\n",
      " [0.91713031 0.08286969 0.85924993 0.14075007]\n",
      " [0.33496077 0.66503923 0.61069618 0.38930382]\n",
      " [0.91527333 0.08472667 0.85926858 0.14073142]\n",
      " [0.25784497 0.74215503 0.39757129 0.60242871]\n",
      " [0.2327119  0.7672881  0.5        0.5       ]\n",
      " [0.89089075 0.10910925 0.85919607 0.14080393]\n",
      " [0.93961375 0.06038625 0.87474496 0.12525504]\n",
      " [0.96813554 0.03186446 0.85916614 0.14083386]\n",
      " [0.9439409  0.0560591  0.85925362 0.14074638]\n",
      " [0.96917857 0.03082143 0.8646056  0.1353944 ]\n",
      " [0.96146614 0.03853386 0.85922626 0.14077374]\n",
      " [0.89259148 0.10740852 0.85915263 0.14084737]\n",
      " [0.89962463 0.10037537 0.85920099 0.14079901]\n",
      " [0.95903714 0.04096286 0.85914312 0.14085688]\n",
      " [0.96371614 0.03628386 0.85929889 0.14070111]\n",
      " [0.93108234 0.06891766 0.85923327 0.14076673]\n",
      " [0.92950863 0.07049137 0.85922009 0.14077991]\n",
      " [0.96540725 0.03459275 0.85919828 0.14080172]\n",
      " [0.92039251 0.07960749 0.85920782 0.14079218]\n",
      " [0.9275985  0.0724015  0.85922721 0.14077279]\n",
      " [0.93345395 0.06654605 0.85928453 0.14071547]\n",
      " [0.96355777 0.03644223 0.87875167 0.12124833]\n",
      " [0.93798611 0.06201389 0.85924342 0.14075658]\n",
      " [0.92770668 0.07229332 0.85922009 0.14077991]\n",
      " [0.94990991 0.05009009 0.85929177 0.14070823]\n",
      " [0.21431439 0.78568561 0.46522623 0.53477377]\n",
      " [0.96216947 0.03783053 0.86806539 0.13193461]\n",
      " [0.96448219 0.03551781 0.86514963 0.13485037]\n",
      " [0.900531   0.099469   0.85922094 0.14077906]\n",
      " [0.97059198 0.02940802 0.8591816  0.1408184 ]\n",
      " [0.33996043 0.66003957 0.64205292 0.35794708]\n",
      " [0.91163419 0.08836581 0.85913207 0.14086793]\n",
      " [0.78104396 0.21895604 0.8328427  0.1671573 ]\n",
      " [0.95828477 0.04171523 0.8591539  0.1408461 ]\n",
      " [0.97849323 0.02150677 0.85926001 0.14073999]\n",
      " [0.85741853 0.14258147 0.85931298 0.14068702]\n",
      " [0.96130769 0.03869231 0.85922149 0.14077851]\n",
      " [0.9696875  0.0303125  0.8873517  0.1126483 ]\n",
      " [0.92426435 0.07573565 0.85927718 0.14072282]\n",
      " [0.29840399 0.70159601 0.6453067  0.3546933 ]\n",
      " [0.93955031 0.06044969 0.8592421  0.1407579 ]\n",
      " [0.94504843 0.05495157 0.85925018 0.14074982]\n",
      " [0.88195296 0.11804704 0.85927736 0.14072264]\n",
      " [0.92032506 0.07967494 0.85916951 0.14083049]\n",
      " [0.33135677 0.66864323 0.61909983 0.38090017]\n",
      " [0.934472   0.065528   0.8592408  0.1407592 ]\n",
      " [0.9178332  0.0821668  0.85920924 0.14079076]\n",
      " [0.93659926 0.06340074 0.85925038 0.14074962]\n",
      " [0.94153407 0.05846593 0.85924247 0.14075753]\n",
      " [0.85275682 0.14724318 0.85918493 0.14081507]\n",
      " [0.89960582 0.10039418 0.85924323 0.14075677]\n",
      " [0.33671336 0.66328664 0.69428392 0.30571608]\n",
      " [0.93461798 0.06538202 0.85915463 0.14084537]\n",
      " [0.28217655 0.71782345 0.65168141 0.34831859]\n",
      " [0.93408855 0.06591145 0.85932602 0.14067398]\n",
      " [0.95424977 0.04575023 0.8592392  0.1407608 ]\n",
      " [0.93164789 0.06835211 0.8592707  0.1407293 ]\n",
      " [0.96398067 0.03601933 0.87972091 0.12027909]\n",
      " [0.94319285 0.05680715 0.85921776 0.14078224]\n",
      " [0.33510988 0.66489012 0.63958412 0.36041588]\n",
      " [0.97121996 0.02878004 0.87804668 0.12195332]\n",
      " [0.96439402 0.03560598 0.87214323 0.12785677]\n",
      " [0.95314693 0.04685307 0.86710558 0.13289442]\n",
      " [0.34367857 0.65632143 0.70633376 0.29366624]\n",
      " [0.90048263 0.09951737 0.85923699 0.14076301]\n",
      " [0.98442611 0.01557389 0.85919514 0.14080486]\n",
      " [0.96001629 0.03998371 0.85917572 0.14082428]\n",
      " [0.94018704 0.05981296 0.85925    0.14075   ]\n",
      " [0.92595348 0.07404652 0.85927438 0.14072562]\n",
      " [0.90193183 0.09806817 0.85925239 0.14074761]\n",
      " [0.9283398  0.0716602  0.85922543 0.14077457]\n",
      " [0.96077832 0.03922168 0.85924262 0.14075738]\n",
      " [0.88350143 0.11649857 0.85924275 0.14075725]\n",
      " [0.8934009  0.1065991  0.8592312  0.1407688 ]\n",
      " [0.22477273 0.77522727 0.38950623 0.61049377]\n",
      " [0.90732088 0.09267912 0.85920728 0.14079272]\n",
      " [0.94403625 0.05596375 0.87288492 0.12711508]\n",
      " [0.95689995 0.04310005 0.85913365 0.14086635]\n",
      " [0.97352416 0.02647584 0.8703967  0.1296033 ]\n",
      " [0.25157013 0.74842987 0.56914708 0.43085292]\n",
      " [0.92986579 0.07013421 0.85917971 0.14082029]\n",
      " [0.9433857  0.0566143  0.85922971 0.14077029]\n",
      " [0.95444774 0.04555226 0.87534998 0.12465002]\n",
      " [0.93582837 0.06417163 0.85929998 0.14070002]\n",
      " [0.92633017 0.07366983 0.85932173 0.14067827]\n",
      " [0.97494439 0.02505561 0.88002524 0.11997476]\n",
      " [0.91388365 0.08611635 0.85920661 0.14079339]\n",
      " [0.91439791 0.08560209 0.85923081 0.14076919]\n",
      " [0.906289   0.093711   0.85918168 0.14081832]\n",
      " [0.95518086 0.04481914 0.8591768  0.1408232 ]\n",
      " [0.90792133 0.09207867 0.85922167 0.14077833]\n",
      " [0.2911652  0.7088348  0.57402441 0.42597559]\n",
      " [0.9564085  0.0435915  0.8592314  0.1407686 ]\n",
      " [0.94634146 0.05365854 0.85923156 0.14076844]\n",
      " [0.95873313 0.04126687 0.85922816 0.14077184]\n",
      " [0.27066043 0.72933957 0.542046   0.457954  ]\n",
      " [0.96626162 0.03373838 0.859278   0.140722  ]\n",
      " [0.84233317 0.15766683 0.85926232 0.14073768]\n",
      " [0.26161839 0.73838161 0.43248856 0.56751144]\n",
      " [0.91564284 0.08435716 0.85919663 0.14080337]\n",
      " [0.910701   0.089299   0.85918951 0.14081049]\n",
      " [0.95193003 0.04806997 0.87655126 0.12344874]\n",
      " [0.97720993 0.02279007 0.85920422 0.14079578]\n",
      " [0.93419263 0.06580737 0.85924555 0.14075445]\n",
      " [0.92901615 0.07098385 0.85914796 0.14085204]\n",
      " [0.23758985 0.76241015 0.41552167 0.58447833]\n",
      " [0.93967922 0.06032078 0.85926682 0.14073318]\n",
      " [0.30036472 0.69963528 0.40242237 0.59757763]\n",
      " [0.90773576 0.09226424 0.85923175 0.14076825]\n",
      " [0.95041704 0.04958296 0.85922249 0.14077751]\n",
      " [0.37679971 0.62320029 0.656673   0.343327  ]\n",
      " [0.3786246  0.6213754  0.65606916 0.34393084]\n",
      " [0.93710731 0.06289269 0.85917437 0.14082563]\n",
      " [0.96595381 0.03404619 0.85942124 0.14057876]\n",
      " [0.93932303 0.06067697 0.85926539 0.14073461]\n",
      " [0.96304348 0.03695652 0.85930009 0.14069991]\n",
      " [0.86162473 0.13837527 0.84810329 0.15189671]\n",
      " [0.91720068 0.08279932 0.85922494 0.14077506]\n",
      " [0.22622258 0.77377742 0.49009412 0.50990588]\n",
      " [0.93101939 0.06898061 0.86311278 0.13688722]\n",
      " [0.20513889 0.79486111 0.39879964 0.60120036]\n",
      " [0.30318089 0.69681911 0.69386035 0.30613965]\n",
      " [0.96466105 0.03533895 0.87230732 0.12769268]\n",
      " [0.97895046 0.02104954 0.86981771 0.13018229]\n",
      " [0.96598113 0.03401887 0.87959014 0.12040986]\n",
      " [0.29436922 0.70563078 0.63403601 0.36596399]\n",
      " [0.94339485 0.05660515 0.85921432 0.14078568]\n",
      " [0.25940278 0.74059722 0.5        0.5       ]\n",
      " [0.94373968 0.05626032 0.85924986 0.14075014]\n",
      " [0.33969025 0.66030975 0.61339997 0.38660003]\n",
      " [0.9441172  0.0558828  0.85919498 0.14080502]\n",
      " [0.95693183 0.04306817 0.85914029 0.14085971]\n",
      " [0.91545974 0.08454026 0.85921932 0.14078068]\n",
      " [0.95937164 0.04062836 0.85921146 0.14078854]\n",
      " [0.93519684 0.06480316 0.85921784 0.14078216]\n",
      " [0.98947039 0.01052961 0.87184251 0.12815749]\n",
      " [0.88170904 0.11829096 0.85923044 0.14076956]\n",
      " [0.92494901 0.07505099 0.85932119 0.14067881]\n",
      " [0.93936714 0.06063286 0.8592307  0.1407693 ]\n",
      " [0.89113636 0.10886364 0.85924995 0.14075005]\n",
      " [0.93774745 0.06225255 0.85914421 0.14085579]\n",
      " [0.33931006 0.66068994 0.61147166 0.38852834]\n",
      " [0.93131817 0.06868183 0.85924955 0.14075045]\n",
      " [0.95536396 0.04463604 0.85923762 0.14076238]\n",
      " [0.94652595 0.05347405 0.85924268 0.14075732]\n",
      " [0.9606157  0.0393843  0.85938622 0.14061378]\n",
      " [0.92780102 0.07219898 0.85922302 0.14077698]\n",
      " [0.96594803 0.03405197 0.859143   0.140857  ]\n",
      " [0.93298495 0.06701505 0.8592189  0.1407811 ]\n",
      " [0.95169906 0.04830094 0.85922002 0.14077998]\n",
      " [0.94310001 0.05689999 0.85921563 0.14078437]\n",
      " [0.29791167 0.70208833 0.61070106 0.38929894]\n",
      " [0.9366164  0.0633836  0.85915997 0.14084003]\n",
      " [0.93672261 0.06327739 0.85923463 0.14076537]\n",
      " [0.93290746 0.06709254 0.85913522 0.14086478]\n",
      " [0.95017734 0.04982266 0.85921976 0.14078024]\n",
      " [0.90408099 0.09591901 0.85926981 0.14073019]]\n"
     ]
    }
   ],
   "source": [
    "# 2 modelin 0 ve 1 tahmin olasılıkları yan yana görülebilir burada\n",
    "print(eclf1.transform(X_val))"
   ]
  },
  {
   "cell_type": "code",
   "execution_count": 99,
   "id": "62584375",
   "metadata": {},
   "outputs": [
    {
     "name": "stdout",
     "output_type": "stream",
     "text": [
      "              precision    recall  f1-score   support\n",
      "\n",
      "           0       0.98      1.00      0.99       163\n",
      "           1       1.00      0.89      0.94        37\n",
      "\n",
      "    accuracy                           0.98       200\n",
      "   macro avg       0.99      0.95      0.97       200\n",
      "weighted avg       0.98      0.98      0.98       200\n",
      "\n"
     ]
    }
   ],
   "source": [
    "# tuningsiz rfc'yle denedim ve orada da aynı değer çıktı\n",
    "eclf2 = VotingClassifier(estimators=[\n",
    "        ('rfc', rfc), ('svc', svc_rbf)], voting='soft')\n",
    "eclf2 = eclf2.fit(X_val, y_val)\n",
    "\n",
    "preds = eclf2.predict(X_val)\n",
    "\n",
    "print(classification_report(y_val, preds))"
   ]
  },
  {
   "cell_type": "markdown",
   "id": "9a3da51a",
   "metadata": {},
   "source": [
    "## Sonuç"
   ]
  },
  {
   "cell_type": "markdown",
   "id": "5f3a2548",
   "metadata": {},
   "source": [
    "Validation setinde tek modeller arasında en başarılı dengeli sonucu **Tuningli RandomForest** threshold değerleri değiştirildikten sonra **0.68-0.68 recall** değerleriyle verdi. En yüksek 1 doğruluğuna bakarsak da **Tuningsiz RandomForest 0.89**'luk başarısıyla modellerim arasındaki en yüksek değeri elde etti, ancak 0 başarısının çok düşük olmasından dolayı modelin çoğu satıra 1 deme eğiliminde olduğu anlaşılabiliyor."
   ]
  },
  {
   "cell_type": "markdown",
   "id": "246cb94e",
   "metadata": {},
   "source": [
    "**RandomForest** ve **SupportVector** birleşmelerinden **VotingClassifier** yardımıyla elde ettiğim model ise **1.00-0.89 recall** değerleriyle elde edebildiğim en iyi rakamları verdi."
   ]
  },
  {
   "cell_type": "code",
   "execution_count": null,
   "id": "55662d8f",
   "metadata": {},
   "outputs": [],
   "source": []
  }
 ],
 "metadata": {
  "kernelspec": {
   "display_name": "Python 3 (ipykernel)",
   "language": "python",
   "name": "python3"
  },
  "language_info": {
   "codemirror_mode": {
    "name": "ipython",
    "version": 3
   },
   "file_extension": ".py",
   "mimetype": "text/x-python",
   "name": "python",
   "nbconvert_exporter": "python",
   "pygments_lexer": "ipython3",
   "version": "3.8.12"
  }
 },
 "nbformat": 4,
 "nbformat_minor": 5
}
